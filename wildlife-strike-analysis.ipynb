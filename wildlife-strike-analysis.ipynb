{
 "cells": [
  {
   "cell_type": "markdown",
   "id": "7a5a343c",
   "metadata": {},
   "source": [
    "# Wildlife Strike Analysis\n",
    "\n",
    "*This notebook should be used to record all of your analysis.*\n",
    "\n",
    "## Imports"
   ]
  },
  {
   "cell_type": "code",
   "execution_count": 1,
   "id": "eba5ea40",
   "metadata": {},
   "outputs": [],
   "source": [
    "import pandas as pd\n",
    "\n",
    "from redshift_connector import connect\n",
    "\n",
    "import altair as alt\n",
    "\n",
    "from scipy.stats import zscore"
   ]
  },
  {
   "cell_type": "markdown",
   "id": "4a48d6c0",
   "metadata": {},
   "source": [
    "### Making a Connection"
   ]
  },
  {
   "cell_type": "code",
   "execution_count": 2,
   "id": "06141f59",
   "metadata": {},
   "outputs": [],
   "source": [
    "def get_db_connection():\n",
    "    return connect(host=\"c17-redshift-cluster.cdq12ms5gjyk.eu-west-2.redshift.amazonaws.com\",\n",
    "                   database=\"dw_air_travel\",\n",
    "                   user=\"najma_hassan\",\n",
    "                   password=\"Nnajma_71\",\n",
    "                   port=5439)\n",
    "\n",
    "\n",
    "conn = get_db_connection()\n",
    "curs = conn.cursor()"
   ]
  },
  {
   "cell_type": "markdown",
   "id": "89cf637e",
   "metadata": {},
   "source": [
    "**How significant a problem are wildlife strikes?**\n"
   ]
  },
  {
   "cell_type": "markdown",
   "id": "ea7d7305",
   "metadata": {},
   "source": [
    "1) Get the relevant columns from wildlife_strike table to answer this question and load into pd dataframe"
   ]
  },
  {
   "cell_type": "code",
   "execution_count": 73,
   "id": "32265350",
   "metadata": {},
   "outputs": [],
   "source": [
    "query = \"\"\"SELECT incident_date ,cost_repairs, indicated_damage, \n",
    "nr_injuries,nr_fatalities\n",
    "FROM wildlife_strike\"\"\"\n",
    "curs.execute(query)\n",
    "strikes_significance = curs.fetch_dataframe()"
   ]
  },
  {
   "cell_type": "markdown",
   "id": "0296502e",
   "metadata": {},
   "source": [
    "2) Clean the data"
   ]
  },
  {
   "cell_type": "code",
   "execution_count": 82,
   "id": "8109440b",
   "metadata": {},
   "outputs": [],
   "source": [
    "strikes_significance['incident_date'] = pd.to_datetime(strikes_significance['incident_date']).dt.year"
   ]
  },
  {
   "cell_type": "code",
   "execution_count": 84,
   "id": "e45aa6a0",
   "metadata": {},
   "outputs": [],
   "source": [
    "# Only have rows where year is after 2010\n",
    "strikes_significance = strikes_significance[strikes_significance['incident_date'] >= 2010]"
   ]
  },
  {
   "cell_type": "code",
   "execution_count": 76,
   "id": "2fff7b33",
   "metadata": {},
   "outputs": [],
   "source": [
    "def convert_str_to_ints(df, column_name):\n",
    "    df[column_name] = df[column_name].replace('', 0)\n",
    "    df[column_name] = pd.to_numeric(df[column_name]).astype(int)\n",
    "    return df \n",
    "    "
   ]
  },
  {
   "cell_type": "code",
   "execution_count": null,
   "id": "2dfa4aaa",
   "metadata": {},
   "outputs": [],
   "source": [
    "strikes_significance = convert_str_to_ints(strikes_significance, 'nr_injuries')\n",
    "\n",
    "strikes_significance = convert_str_to_ints(strikes_significance, 'nr_fatalities')\n",
    "\n",
    "strikes_significance = convert_str_to_ints(strikes_significance, 'cost_repairs')\n",
    "\n",
    "strikes_significance = convert_str_to_ints(strikes_significance, 'indicated_damage')"
   ]
  },
  {
   "cell_type": "code",
   "execution_count": 85,
   "id": "0834af4d",
   "metadata": {},
   "outputs": [
    {
     "data": {
      "text/html": [
       "<div>\n",
       "<style scoped>\n",
       "    .dataframe tbody tr th:only-of-type {\n",
       "        vertical-align: middle;\n",
       "    }\n",
       "\n",
       "    .dataframe tbody tr th {\n",
       "        vertical-align: top;\n",
       "    }\n",
       "\n",
       "    .dataframe thead th {\n",
       "        text-align: right;\n",
       "    }\n",
       "</style>\n",
       "<table border=\"1\" class=\"dataframe\">\n",
       "  <thead>\n",
       "    <tr style=\"text-align: right;\">\n",
       "      <th></th>\n",
       "      <th>incident_date</th>\n",
       "      <th>cost_repairs</th>\n",
       "      <th>indicated_damage</th>\n",
       "      <th>nr_injuries</th>\n",
       "      <th>nr_fatalities</th>\n",
       "    </tr>\n",
       "  </thead>\n",
       "  <tbody>\n",
       "    <tr>\n",
       "      <th>87761</th>\n",
       "      <td>2010</td>\n",
       "      <td>0</td>\n",
       "      <td>0</td>\n",
       "      <td>0</td>\n",
       "      <td>0</td>\n",
       "    </tr>\n",
       "    <tr>\n",
       "      <th>87762</th>\n",
       "      <td>2010</td>\n",
       "      <td>0</td>\n",
       "      <td>0</td>\n",
       "      <td>0</td>\n",
       "      <td>0</td>\n",
       "    </tr>\n",
       "    <tr>\n",
       "      <th>87763</th>\n",
       "      <td>2010</td>\n",
       "      <td>0</td>\n",
       "      <td>0</td>\n",
       "      <td>0</td>\n",
       "      <td>0</td>\n",
       "    </tr>\n",
       "    <tr>\n",
       "      <th>87764</th>\n",
       "      <td>2010</td>\n",
       "      <td>0</td>\n",
       "      <td>0</td>\n",
       "      <td>0</td>\n",
       "      <td>0</td>\n",
       "    </tr>\n",
       "    <tr>\n",
       "      <th>87765</th>\n",
       "      <td>2010</td>\n",
       "      <td>0</td>\n",
       "      <td>0</td>\n",
       "      <td>0</td>\n",
       "      <td>0</td>\n",
       "    </tr>\n",
       "  </tbody>\n",
       "</table>\n",
       "</div>"
      ],
      "text/plain": [
       "       incident_date  cost_repairs  indicated_damage  nr_injuries  \\\n",
       "87761           2010             0                 0            0   \n",
       "87762           2010             0                 0            0   \n",
       "87763           2010             0                 0            0   \n",
       "87764           2010             0                 0            0   \n",
       "87765           2010             0                 0            0   \n",
       "\n",
       "       nr_fatalities  \n",
       "87761              0  \n",
       "87762              0  \n",
       "87763              0  \n",
       "87764              0  \n",
       "87765              0  "
      ]
     },
     "execution_count": 85,
     "metadata": {},
     "output_type": "execute_result"
    }
   ],
   "source": [
    "strikes_significance.head()"
   ]
  },
  {
   "cell_type": "markdown",
   "id": "698e5a8f",
   "metadata": {},
   "source": [
    "3) Make the Visualisations"
   ]
  },
  {
   "cell_type": "markdown",
   "id": "7b090e1b",
   "metadata": {},
   "source": [
    "_Annual trend chart_"
   ]
  },
  {
   "cell_type": "code",
   "execution_count": 93,
   "id": "0d12a99d",
   "metadata": {},
   "outputs": [],
   "source": [
    "annual_strikes = strikes_significance.groupby('incident_date').size().reset_index(name='Total Incidents')"
   ]
  },
  {
   "cell_type": "code",
   "execution_count": 98,
   "id": "280eb50a",
   "metadata": {},
   "outputs": [
    {
     "data": {
      "text/html": [
       "\n",
       "<style>\n",
       "  #altair-viz-5322f515f4184345a1275cf6bffdc7e3.vega-embed {\n",
       "    width: 100%;\n",
       "    display: flex;\n",
       "  }\n",
       "\n",
       "  #altair-viz-5322f515f4184345a1275cf6bffdc7e3.vega-embed details,\n",
       "  #altair-viz-5322f515f4184345a1275cf6bffdc7e3.vega-embed details summary {\n",
       "    position: relative;\n",
       "  }\n",
       "</style>\n",
       "<div id=\"altair-viz-5322f515f4184345a1275cf6bffdc7e3\"></div>\n",
       "<script type=\"text/javascript\">\n",
       "  var VEGA_DEBUG = (typeof VEGA_DEBUG == \"undefined\") ? {} : VEGA_DEBUG;\n",
       "  (function(spec, embedOpt){\n",
       "    let outputDiv = document.currentScript.previousElementSibling;\n",
       "    if (outputDiv.id !== \"altair-viz-5322f515f4184345a1275cf6bffdc7e3\") {\n",
       "      outputDiv = document.getElementById(\"altair-viz-5322f515f4184345a1275cf6bffdc7e3\");\n",
       "    }\n",
       "\n",
       "    const paths = {\n",
       "      \"vega\": \"https://cdn.jsdelivr.net/npm/vega@5?noext\",\n",
       "      \"vega-lib\": \"https://cdn.jsdelivr.net/npm/vega-lib?noext\",\n",
       "      \"vega-lite\": \"https://cdn.jsdelivr.net/npm/vega-lite@5.20.1?noext\",\n",
       "      \"vega-embed\": \"https://cdn.jsdelivr.net/npm/vega-embed@6?noext\",\n",
       "    };\n",
       "\n",
       "    function maybeLoadScript(lib, version) {\n",
       "      var key = `${lib.replace(\"-\", \"\")}_version`;\n",
       "      return (VEGA_DEBUG[key] == version) ?\n",
       "        Promise.resolve(paths[lib]) :\n",
       "        new Promise(function(resolve, reject) {\n",
       "          var s = document.createElement('script');\n",
       "          document.getElementsByTagName(\"head\")[0].appendChild(s);\n",
       "          s.async = true;\n",
       "          s.onload = () => {\n",
       "            VEGA_DEBUG[key] = version;\n",
       "            return resolve(paths[lib]);\n",
       "          };\n",
       "          s.onerror = () => reject(`Error loading script: ${paths[lib]}`);\n",
       "          s.src = paths[lib];\n",
       "        });\n",
       "    }\n",
       "\n",
       "    function showError(err) {\n",
       "      outputDiv.innerHTML = `<div class=\"error\" style=\"color:red;\">${err}</div>`;\n",
       "      throw err;\n",
       "    }\n",
       "\n",
       "    function displayChart(vegaEmbed) {\n",
       "      vegaEmbed(outputDiv, spec, embedOpt)\n",
       "        .catch(err => showError(`Javascript Error: ${err.message}<br>This usually means there's a typo in your chart specification. See the javascript console for the full traceback.`));\n",
       "    }\n",
       "\n",
       "    if(typeof define === \"function\" && define.amd) {\n",
       "      requirejs.config({paths});\n",
       "      let deps = [\"vega-embed\"];\n",
       "      require(deps, displayChart, err => showError(`Error loading script: ${err.message}`));\n",
       "    } else {\n",
       "      maybeLoadScript(\"vega\", \"5\")\n",
       "        .then(() => maybeLoadScript(\"vega-lite\", \"5.20.1\"))\n",
       "        .then(() => maybeLoadScript(\"vega-embed\", \"6\"))\n",
       "        .catch(showError)\n",
       "        .then(() => displayChart(vegaEmbed));\n",
       "    }\n",
       "  })({\"config\": {\"view\": {\"continuousWidth\": 300, \"continuousHeight\": 300}}, \"data\": {\"name\": \"data-93d70bc373a17d44e50bd4312145de28\"}, \"mark\": {\"type\": \"line\"}, \"encoding\": {\"tooltip\": [{\"field\": \"incident_date\", \"type\": \"quantitative\"}, {\"field\": \"Total Incidents\", \"type\": \"quantitative\"}], \"x\": {\"field\": \"incident_date\", \"title\": \"Year of Incident\", \"type\": \"quantitative\"}, \"y\": {\"field\": \"Total Incidents\", \"type\": \"quantitative\"}}, \"title\": \"Yearly Trend of Wildlife Strikes (2010-2024)\", \"$schema\": \"https://vega.github.io/schema/vega-lite/v5.20.1.json\", \"datasets\": {\"data-93d70bc373a17d44e50bd4312145de28\": [{\"incident_date\": 2010, \"Total Incidents\": 9898}, {\"incident_date\": 2011, \"Total Incidents\": 10109}, {\"incident_date\": 2012, \"Total Incidents\": 10932}, {\"incident_date\": 2013, \"Total Incidents\": 11408}, {\"incident_date\": 2014, \"Total Incidents\": 13692}, {\"incident_date\": 2015, \"Total Incidents\": 13770}, {\"incident_date\": 2016, \"Total Incidents\": 13324}, {\"incident_date\": 2017, \"Total Incidents\": 14771}, {\"incident_date\": 2018, \"Total Incidents\": 16205}, {\"incident_date\": 2019, \"Total Incidents\": 17353}, {\"incident_date\": 2020, \"Total Incidents\": 11626}, {\"incident_date\": 2021, \"Total Incidents\": 15643}, {\"incident_date\": 2022, \"Total Incidents\": 17216}, {\"incident_date\": 2023, \"Total Incidents\": 19628}, {\"incident_date\": 2024, \"Total Incidents\": 7657}]}}, {\"mode\": \"vega-lite\"});\n",
       "</script>"
      ],
      "text/plain": [
       "alt.Chart(...)"
      ]
     },
     "execution_count": 98,
     "metadata": {},
     "output_type": "execute_result"
    }
   ],
   "source": [
    "yearly_trends = alt.Chart(annual_strikes, title = 'Yearly Trend of Wildlife Strikes (2010-2024)').mark_line().encode(\n",
    "    x = alt.X('incident_date', title='Year of Incident'),\n",
    "    y = 'Total Incidents',\n",
    "    tooltip=['incident_date', 'Total Incidents']\n",
    ")\n",
    "yearly_trends"
   ]
  },
  {
   "cell_type": "markdown",
   "id": "8d8d9bfe",
   "metadata": {},
   "source": [
    "_Cost repairs chart_"
   ]
  },
  {
   "cell_type": "code",
   "execution_count": 113,
   "id": "8d2f4157",
   "metadata": {},
   "outputs": [],
   "source": [
    "strikes_significance['indicated_damage'].value_counts()\n",
    "damages = pd.DataFrame(columns=['Damage Reported', 'Count'], data=[['Yes', 9303], ['No', 193929]])"
   ]
  },
  {
   "cell_type": "code",
   "execution_count": 138,
   "id": "c9a0f52f",
   "metadata": {},
   "outputs": [],
   "source": [
    "strikes_significance[strikes_significance['incident_date'] == 2024 ]['indicated_damage'].value_counts()\n",
    "damages_2024 = pd.DataFrame(columns=['Damage Reported', 'Count'], data=[\n",
    "                       ['Yes', 347], ['No', 7310]])"
   ]
  },
  {
   "cell_type": "code",
   "execution_count": 129,
   "id": "f5012a5e",
   "metadata": {},
   "outputs": [
    {
     "data": {
      "text/html": [
       "\n",
       "<style>\n",
       "  #altair-viz-520df79d59864c7d9a3bef473f39e49d.vega-embed {\n",
       "    width: 100%;\n",
       "    display: flex;\n",
       "  }\n",
       "\n",
       "  #altair-viz-520df79d59864c7d9a3bef473f39e49d.vega-embed details,\n",
       "  #altair-viz-520df79d59864c7d9a3bef473f39e49d.vega-embed details summary {\n",
       "    position: relative;\n",
       "  }\n",
       "</style>\n",
       "<div id=\"altair-viz-520df79d59864c7d9a3bef473f39e49d\"></div>\n",
       "<script type=\"text/javascript\">\n",
       "  var VEGA_DEBUG = (typeof VEGA_DEBUG == \"undefined\") ? {} : VEGA_DEBUG;\n",
       "  (function(spec, embedOpt){\n",
       "    let outputDiv = document.currentScript.previousElementSibling;\n",
       "    if (outputDiv.id !== \"altair-viz-520df79d59864c7d9a3bef473f39e49d\") {\n",
       "      outputDiv = document.getElementById(\"altair-viz-520df79d59864c7d9a3bef473f39e49d\");\n",
       "    }\n",
       "\n",
       "    const paths = {\n",
       "      \"vega\": \"https://cdn.jsdelivr.net/npm/vega@5?noext\",\n",
       "      \"vega-lib\": \"https://cdn.jsdelivr.net/npm/vega-lib?noext\",\n",
       "      \"vega-lite\": \"https://cdn.jsdelivr.net/npm/vega-lite@5.20.1?noext\",\n",
       "      \"vega-embed\": \"https://cdn.jsdelivr.net/npm/vega-embed@6?noext\",\n",
       "    };\n",
       "\n",
       "    function maybeLoadScript(lib, version) {\n",
       "      var key = `${lib.replace(\"-\", \"\")}_version`;\n",
       "      return (VEGA_DEBUG[key] == version) ?\n",
       "        Promise.resolve(paths[lib]) :\n",
       "        new Promise(function(resolve, reject) {\n",
       "          var s = document.createElement('script');\n",
       "          document.getElementsByTagName(\"head\")[0].appendChild(s);\n",
       "          s.async = true;\n",
       "          s.onload = () => {\n",
       "            VEGA_DEBUG[key] = version;\n",
       "            return resolve(paths[lib]);\n",
       "          };\n",
       "          s.onerror = () => reject(`Error loading script: ${paths[lib]}`);\n",
       "          s.src = paths[lib];\n",
       "        });\n",
       "    }\n",
       "\n",
       "    function showError(err) {\n",
       "      outputDiv.innerHTML = `<div class=\"error\" style=\"color:red;\">${err}</div>`;\n",
       "      throw err;\n",
       "    }\n",
       "\n",
       "    function displayChart(vegaEmbed) {\n",
       "      vegaEmbed(outputDiv, spec, embedOpt)\n",
       "        .catch(err => showError(`Javascript Error: ${err.message}<br>This usually means there's a typo in your chart specification. See the javascript console for the full traceback.`));\n",
       "    }\n",
       "\n",
       "    if(typeof define === \"function\" && define.amd) {\n",
       "      requirejs.config({paths});\n",
       "      let deps = [\"vega-embed\"];\n",
       "      require(deps, displayChart, err => showError(`Error loading script: ${err.message}`));\n",
       "    } else {\n",
       "      maybeLoadScript(\"vega\", \"5\")\n",
       "        .then(() => maybeLoadScript(\"vega-lite\", \"5.20.1\"))\n",
       "        .then(() => maybeLoadScript(\"vega-embed\", \"6\"))\n",
       "        .catch(showError)\n",
       "        .then(() => displayChart(vegaEmbed));\n",
       "    }\n",
       "  })({\"config\": {\"view\": {\"continuousWidth\": 300, \"continuousHeight\": 300}}, \"data\": {\"name\": \"data-311875da05d55a5e748c84e1259a2fe4\"}, \"mark\": {\"type\": \"arc\"}, \"encoding\": {\"color\": {\"field\": \"Damage Reported\", \"scale\": {\"scheme\": \"bluegreen\"}, \"type\": \"nominal\"}, \"theta\": {\"field\": \"Count\", \"type\": \"quantitative\"}, \"tooltip\": [{\"field\": \"Count\", \"type\": \"quantitative\"}, {\"field\": \"Damage Reported\", \"type\": \"nominal\"}]}, \"title\": \"Proportion of Reported Damage in Wildlife Strikes\", \"$schema\": \"https://vega.github.io/schema/vega-lite/v5.20.1.json\", \"datasets\": {\"data-311875da05d55a5e748c84e1259a2fe4\": [{\"Damage Reported\": \"Yes\", \"Count\": 9303}, {\"Damage Reported\": \"No\", \"Count\": 193929}]}}, {\"mode\": \"vega-lite\"});\n",
       "</script>"
      ],
      "text/plain": [
       "alt.Chart(...)"
      ]
     },
     "execution_count": 129,
     "metadata": {},
     "output_type": "execute_result"
    }
   ],
   "source": [
    "damages_chart = alt.Chart(damages, title = 'Proportion of Reported Damage in Wildlife Strikes').mark_arc().encode(\n",
    "    theta='Count',\n",
    "    color= alt.Color('Damage Reported').scale(scheme='bluegreen'),\n",
    "    tooltip=['Count', 'Damage Reported'],\n",
    ")\n",
    "damages_chart"
   ]
  },
  {
   "cell_type": "code",
   "execution_count": 141,
   "id": "4e0d0544",
   "metadata": {},
   "outputs": [
    {
     "data": {
      "text/html": [
       "\n",
       "<style>\n",
       "  #altair-viz-07902b0abf2841d99bdce902c8444a6b.vega-embed {\n",
       "    width: 100%;\n",
       "    display: flex;\n",
       "  }\n",
       "\n",
       "  #altair-viz-07902b0abf2841d99bdce902c8444a6b.vega-embed details,\n",
       "  #altair-viz-07902b0abf2841d99bdce902c8444a6b.vega-embed details summary {\n",
       "    position: relative;\n",
       "  }\n",
       "</style>\n",
       "<div id=\"altair-viz-07902b0abf2841d99bdce902c8444a6b\"></div>\n",
       "<script type=\"text/javascript\">\n",
       "  var VEGA_DEBUG = (typeof VEGA_DEBUG == \"undefined\") ? {} : VEGA_DEBUG;\n",
       "  (function(spec, embedOpt){\n",
       "    let outputDiv = document.currentScript.previousElementSibling;\n",
       "    if (outputDiv.id !== \"altair-viz-07902b0abf2841d99bdce902c8444a6b\") {\n",
       "      outputDiv = document.getElementById(\"altair-viz-07902b0abf2841d99bdce902c8444a6b\");\n",
       "    }\n",
       "\n",
       "    const paths = {\n",
       "      \"vega\": \"https://cdn.jsdelivr.net/npm/vega@5?noext\",\n",
       "      \"vega-lib\": \"https://cdn.jsdelivr.net/npm/vega-lib?noext\",\n",
       "      \"vega-lite\": \"https://cdn.jsdelivr.net/npm/vega-lite@5.20.1?noext\",\n",
       "      \"vega-embed\": \"https://cdn.jsdelivr.net/npm/vega-embed@6?noext\",\n",
       "    };\n",
       "\n",
       "    function maybeLoadScript(lib, version) {\n",
       "      var key = `${lib.replace(\"-\", \"\")}_version`;\n",
       "      return (VEGA_DEBUG[key] == version) ?\n",
       "        Promise.resolve(paths[lib]) :\n",
       "        new Promise(function(resolve, reject) {\n",
       "          var s = document.createElement('script');\n",
       "          document.getElementsByTagName(\"head\")[0].appendChild(s);\n",
       "          s.async = true;\n",
       "          s.onload = () => {\n",
       "            VEGA_DEBUG[key] = version;\n",
       "            return resolve(paths[lib]);\n",
       "          };\n",
       "          s.onerror = () => reject(`Error loading script: ${paths[lib]}`);\n",
       "          s.src = paths[lib];\n",
       "        });\n",
       "    }\n",
       "\n",
       "    function showError(err) {\n",
       "      outputDiv.innerHTML = `<div class=\"error\" style=\"color:red;\">${err}</div>`;\n",
       "      throw err;\n",
       "    }\n",
       "\n",
       "    function displayChart(vegaEmbed) {\n",
       "      vegaEmbed(outputDiv, spec, embedOpt)\n",
       "        .catch(err => showError(`Javascript Error: ${err.message}<br>This usually means there's a typo in your chart specification. See the javascript console for the full traceback.`));\n",
       "    }\n",
       "\n",
       "    if(typeof define === \"function\" && define.amd) {\n",
       "      requirejs.config({paths});\n",
       "      let deps = [\"vega-embed\"];\n",
       "      require(deps, displayChart, err => showError(`Error loading script: ${err.message}`));\n",
       "    } else {\n",
       "      maybeLoadScript(\"vega\", \"5\")\n",
       "        .then(() => maybeLoadScript(\"vega-lite\", \"5.20.1\"))\n",
       "        .then(() => maybeLoadScript(\"vega-embed\", \"6\"))\n",
       "        .catch(showError)\n",
       "        .then(() => displayChart(vegaEmbed));\n",
       "    }\n",
       "  })({\"config\": {\"view\": {\"continuousWidth\": 300, \"continuousHeight\": 300}}, \"data\": {\"name\": \"data-f4edcfab0fed59814443a8df9c0804dc\"}, \"mark\": {\"type\": \"arc\"}, \"encoding\": {\"color\": {\"field\": \"Damage Reported\", \"scale\": {\"scheme\": \"bluegreen\"}, \"type\": \"nominal\"}, \"theta\": {\"field\": \"Count\", \"type\": \"quantitative\"}, \"tooltip\": [{\"field\": \"Count\", \"type\": \"quantitative\"}, {\"field\": \"Damage Reported\", \"type\": \"nominal\"}]}, \"title\": \"Proportion of Reported Damage in Wildlife Strikes 2024\", \"$schema\": \"https://vega.github.io/schema/vega-lite/v5.20.1.json\", \"datasets\": {\"data-f4edcfab0fed59814443a8df9c0804dc\": [{\"Damage Reported\": \"Yes\", \"Count\": 347}, {\"Damage Reported\": \"No\", \"Count\": 7310}]}}, {\"mode\": \"vega-lite\"});\n",
       "</script>"
      ],
      "text/plain": [
       "alt.Chart(...)"
      ]
     },
     "execution_count": 141,
     "metadata": {},
     "output_type": "execute_result"
    }
   ],
   "source": [
    "damages_2024_chart = alt.Chart(damages_2024, title='Proportion of Reported Damage in Wildlife Strikes 2024').mark_arc().encode(\n",
    "    theta='Count',\n",
    "    color=alt.Color('Damage Reported').scale(scheme='bluegreen'),\n",
    "    tooltip=['Count', 'Damage Reported'],\n",
    ")\n",
    "damages_2024_chart"
   ]
  },
  {
   "cell_type": "code",
   "execution_count": 149,
   "id": "23c5ae66",
   "metadata": {},
   "outputs": [],
   "source": [
    "injuries = strikes_significance.groupby('incident_date')['nr_injuries'].sum().reset_index()\n",
    "fatalities = strikes_significance.groupby(\n",
    "    'incident_date')['nr_fatalities'].sum().reset_index()"
   ]
  },
  {
   "cell_type": "code",
   "execution_count": 154,
   "id": "0b1d29dd",
   "metadata": {},
   "outputs": [],
   "source": [
    "injury_fatalities = injuries.merge(fatalities)\n"
   ]
  },
  {
   "cell_type": "code",
   "execution_count": 158,
   "id": "b6281c83",
   "metadata": {},
   "outputs": [],
   "source": [
    "cost_repairs_by_year = strikes_significance.groupby('incident_date')['cost_repairs'].sum().reset_index()"
   ]
  },
  {
   "cell_type": "code",
   "execution_count": null,
   "id": "ac96863e",
   "metadata": {},
   "outputs": [
    {
     "ename": "SyntaxError",
     "evalue": "invalid syntax. Perhaps you forgot a comma? (1571737245.py, line 4)",
     "output_type": "error",
     "traceback": [
      "  \u001b[36mCell\u001b[39m\u001b[36m \u001b[39m\u001b[32mIn[168]\u001b[39m\u001b[32m, line 4\u001b[39m\n\u001b[31m    \u001b[39m\u001b[31mtooltip=['cost_repairs','incident_date']\u001b[39m\n            ^\n\u001b[31mSyntaxError\u001b[39m\u001b[31m:\u001b[39m invalid syntax. Perhaps you forgot a comma?\n"
     ]
    }
   ],
   "source": [
    "cost_repairs_chart = alt.Chart(cost_repairs_by_year, title = 'Total Cost of Repairs Per year').mark_bar().encode(\n",
    "    x = alt.X('cost_repairs:Q', title='Cost of Repairs'),\n",
    "    y= alt.Y('incident_date:O', title='Year'),\n",
    "    tooltip=['cost_repairs','incident_date'],\n",
    "    color = alt.Color('cost_repairs')\n",
    ")\n",
    "cost_repairs_chart"
   ]
  },
  {
   "cell_type": "markdown",
   "id": "6d4ae3e2",
   "metadata": {},
   "source": [
    "**Are strikes by particular animals more likely/dangerous than others?**\n"
   ]
  },
  {
   "cell_type": "code",
   "execution_count": null,
   "id": "dde6b2a3",
   "metadata": {},
   "outputs": [
    {
     "data": {
      "text/html": [
       "<div>\n",
       "<style scoped>\n",
       "    .dataframe tbody tr th:only-of-type {\n",
       "        vertical-align: middle;\n",
       "    }\n",
       "\n",
       "    .dataframe tbody tr th {\n",
       "        vertical-align: top;\n",
       "    }\n",
       "\n",
       "    .dataframe thead th {\n",
       "        text-align: right;\n",
       "    }\n",
       "</style>\n",
       "<table border=\"1\" class=\"dataframe\">\n",
       "  <thead>\n",
       "    <tr style=\"text-align: right;\">\n",
       "      <th></th>\n",
       "      <th>incident_date</th>\n",
       "      <th>cost_repairs</th>\n",
       "      <th>indicated_damage</th>\n",
       "      <th>nr_injuries</th>\n",
       "      <th>nr_fatalities</th>\n",
       "    </tr>\n",
       "  </thead>\n",
       "  <tbody>\n",
       "    <tr>\n",
       "      <th>87761</th>\n",
       "      <td>2010</td>\n",
       "      <td>0</td>\n",
       "      <td>0</td>\n",
       "      <td>0</td>\n",
       "      <td>0</td>\n",
       "    </tr>\n",
       "    <tr>\n",
       "      <th>87762</th>\n",
       "      <td>2010</td>\n",
       "      <td>0</td>\n",
       "      <td>0</td>\n",
       "      <td>0</td>\n",
       "      <td>0</td>\n",
       "    </tr>\n",
       "    <tr>\n",
       "      <th>87763</th>\n",
       "      <td>2010</td>\n",
       "      <td>0</td>\n",
       "      <td>0</td>\n",
       "      <td>0</td>\n",
       "      <td>0</td>\n",
       "    </tr>\n",
       "    <tr>\n",
       "      <th>87764</th>\n",
       "      <td>2010</td>\n",
       "      <td>0</td>\n",
       "      <td>0</td>\n",
       "      <td>0</td>\n",
       "      <td>0</td>\n",
       "    </tr>\n",
       "    <tr>\n",
       "      <th>87765</th>\n",
       "      <td>2010</td>\n",
       "      <td>0</td>\n",
       "      <td>0</td>\n",
       "      <td>0</td>\n",
       "      <td>0</td>\n",
       "    </tr>\n",
       "    <tr>\n",
       "      <th>...</th>\n",
       "      <td>...</td>\n",
       "      <td>...</td>\n",
       "      <td>...</td>\n",
       "      <td>...</td>\n",
       "      <td>...</td>\n",
       "    </tr>\n",
       "    <tr>\n",
       "      <th>304319</th>\n",
       "      <td>2024</td>\n",
       "      <td>0</td>\n",
       "      <td>0</td>\n",
       "      <td>0</td>\n",
       "      <td>0</td>\n",
       "    </tr>\n",
       "    <tr>\n",
       "      <th>304320</th>\n",
       "      <td>2024</td>\n",
       "      <td>0</td>\n",
       "      <td>0</td>\n",
       "      <td>0</td>\n",
       "      <td>0</td>\n",
       "    </tr>\n",
       "    <tr>\n",
       "      <th>304321</th>\n",
       "      <td>2024</td>\n",
       "      <td>0</td>\n",
       "      <td>0</td>\n",
       "      <td>0</td>\n",
       "      <td>0</td>\n",
       "    </tr>\n",
       "    <tr>\n",
       "      <th>304322</th>\n",
       "      <td>2024</td>\n",
       "      <td>0</td>\n",
       "      <td>0</td>\n",
       "      <td>0</td>\n",
       "      <td>0</td>\n",
       "    </tr>\n",
       "    <tr>\n",
       "      <th>304323</th>\n",
       "      <td>2024</td>\n",
       "      <td>0</td>\n",
       "      <td>0</td>\n",
       "      <td>0</td>\n",
       "      <td>0</td>\n",
       "    </tr>\n",
       "  </tbody>\n",
       "</table>\n",
       "<p>203232 rows × 5 columns</p>\n",
       "</div>"
      ],
      "text/plain": [
       "        incident_date  cost_repairs  indicated_damage  nr_injuries  \\\n",
       "87761            2010             0                 0            0   \n",
       "87762            2010             0                 0            0   \n",
       "87763            2010             0                 0            0   \n",
       "87764            2010             0                 0            0   \n",
       "87765            2010             0                 0            0   \n",
       "...               ...           ...               ...          ...   \n",
       "304319           2024             0                 0            0   \n",
       "304320           2024             0                 0            0   \n",
       "304321           2024             0                 0            0   \n",
       "304322           2024             0                 0            0   \n",
       "304323           2024             0                 0            0   \n",
       "\n",
       "        nr_fatalities  \n",
       "87761               0  \n",
       "87762               0  \n",
       "87763               0  \n",
       "87764               0  \n",
       "87765               0  \n",
       "...               ...  \n",
       "304319              0  \n",
       "304320              0  \n",
       "304321              0  \n",
       "304322              0  \n",
       "304323              0  \n",
       "\n",
       "[203232 rows x 5 columns]"
      ]
     },
     "execution_count": 142,
     "metadata": {},
     "output_type": "execute_result"
    }
   ],
   "source": []
  },
  {
   "cell_type": "markdown",
   "id": "8f1b1e80",
   "metadata": {},
   "source": [
    "**When and in what conditions are strikes most likely?**\n"
   ]
  },
  {
   "cell_type": "markdown",
   "id": "f4f9e9f2",
   "metadata": {},
   "source": [
    "**Which airlines/airports/states would be likely potential customers for any of this technology?**\n"
   ]
  }
 ],
 "metadata": {
  "kernelspec": {
   "display_name": ".venv",
   "language": "python",
   "name": "python3"
  },
  "language_info": {
   "codemirror_mode": {
    "name": "ipython",
    "version": 3
   },
   "file_extension": ".py",
   "mimetype": "text/x-python",
   "name": "python",
   "nbconvert_exporter": "python",
   "pygments_lexer": "ipython3",
   "version": "3.13.2"
  }
 },
 "nbformat": 4,
 "nbformat_minor": 5
}
