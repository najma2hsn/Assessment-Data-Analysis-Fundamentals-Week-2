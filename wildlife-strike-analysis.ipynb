{
 "cells": [
  {
   "cell_type": "markdown",
   "id": "7a5a343c",
   "metadata": {},
   "source": [
    "# Wildlife Strike Analysis\n",
    "\n",
    "*This notebook should be used to record all of your analysis.*\n",
    "\n",
    "## Imports"
   ]
  },
  {
   "cell_type": "code",
   "execution_count": 1,
   "id": "eba5ea40",
   "metadata": {},
   "outputs": [],
   "source": [
    "import pandas as pd\n",
    "\n",
    "from redshift_connector import connect\n",
    "\n",
    "import altair as alt\n",
    "\n",
    "from scipy.stats import zscore"
   ]
  },
  {
   "cell_type": "markdown",
   "id": "4a48d6c0",
   "metadata": {},
   "source": [
    "### Making a Connection"
   ]
  },
  {
   "cell_type": "code",
   "execution_count": 2,
   "id": "06141f59",
   "metadata": {},
   "outputs": [],
   "source": [
    "def get_db_connection():\n",
    "    return connect(host=\"c17-redshift-cluster.cdq12ms5gjyk.eu-west-2.redshift.amazonaws.com\",\n",
    "                   database=\"dw_air_travel\",\n",
    "                   user=\"najma_hassan\",\n",
    "                   password=\"Nnajma_71\",\n",
    "                   port=5439)\n",
    "\n",
    "\n",
    "conn = get_db_connection()\n",
    "curs = conn.cursor()"
   ]
  },
  {
   "cell_type": "markdown",
   "id": "89cf637e",
   "metadata": {},
   "source": [
    "**How significant a problem are wildlife strikes?**\n"
   ]
  },
  {
   "cell_type": "markdown",
   "id": "ea7d7305",
   "metadata": {},
   "source": [
    "1) Get the relevant columns from wildlife_strike table to answer this question and load into pd dataframe"
   ]
  },
  {
   "cell_type": "code",
   "execution_count": 73,
   "id": "32265350",
   "metadata": {},
   "outputs": [],
   "source": [
    "query = \"\"\"SELECT incident_date ,cost_repairs, indicated_damage, \n",
    "nr_injuries,nr_fatalities\n",
    "FROM wildlife_strike\"\"\"\n",
    "curs.execute(query)\n",
    "strikes_significance = curs.fetch_dataframe()"
   ]
  },
  {
   "cell_type": "markdown",
   "id": "0296502e",
   "metadata": {},
   "source": [
    "2) Clean the data"
   ]
  },
  {
   "cell_type": "code",
   "execution_count": null,
   "id": "8109440b",
   "metadata": {},
   "outputs": [],
   "source": [
    "strikes_significance['incident_date'] = pd.to_datetime(strikes_significance['incident_date']).dt.year"
   ]
  },
  {
   "cell_type": "code",
   "execution_count": 84,
   "id": "e45aa6a0",
   "metadata": {},
   "outputs": [],
   "source": [
    "# Only have rows where year is after 2010\n",
    "strikes_significance = strikes_significance[strikes_significance['incident_date'] >= 2010]"
   ]
  },
  {
   "cell_type": "code",
   "execution_count": null,
   "id": "2fff7b33",
   "metadata": {},
   "outputs": [],
   "source": [
    "def convert_str_to_ints(df, column_name):\n",
    "    \"\"\"Replaces empty strings with 0 and converts numeric strings to integers.\"\"\"\n",
    "    df[column_name] = df[column_name].replace('', 0)\n",
    "    df[column_name] = pd.to_numeric(df[column_name]).astype(int)\n",
    "    return df \n",
    "    "
   ]
  },
  {
   "cell_type": "code",
   "execution_count": null,
   "id": "2dfa4aaa",
   "metadata": {},
   "outputs": [],
   "source": [
    "strikes_significance = convert_str_to_ints(strikes_significance, 'nr_injuries')\n",
    "\n",
    "strikes_significance = convert_str_to_ints(strikes_significance, 'nr_fatalities')\n",
    "\n",
    "strikes_significance = convert_str_to_ints(strikes_significance, 'cost_repairs')\n",
    "\n",
    "strikes_significance = convert_str_to_ints(strikes_significance, 'indicated_damage')"
   ]
  },
  {
   "cell_type": "code",
   "execution_count": 85,
   "id": "0834af4d",
   "metadata": {},
   "outputs": [
    {
     "data": {
      "text/html": [
       "<div>\n",
       "<style scoped>\n",
       "    .dataframe tbody tr th:only-of-type {\n",
       "        vertical-align: middle;\n",
       "    }\n",
       "\n",
       "    .dataframe tbody tr th {\n",
       "        vertical-align: top;\n",
       "    }\n",
       "\n",
       "    .dataframe thead th {\n",
       "        text-align: right;\n",
       "    }\n",
       "</style>\n",
       "<table border=\"1\" class=\"dataframe\">\n",
       "  <thead>\n",
       "    <tr style=\"text-align: right;\">\n",
       "      <th></th>\n",
       "      <th>incident_date</th>\n",
       "      <th>cost_repairs</th>\n",
       "      <th>indicated_damage</th>\n",
       "      <th>nr_injuries</th>\n",
       "      <th>nr_fatalities</th>\n",
       "    </tr>\n",
       "  </thead>\n",
       "  <tbody>\n",
       "    <tr>\n",
       "      <th>87761</th>\n",
       "      <td>2010</td>\n",
       "      <td>0</td>\n",
       "      <td>0</td>\n",
       "      <td>0</td>\n",
       "      <td>0</td>\n",
       "    </tr>\n",
       "    <tr>\n",
       "      <th>87762</th>\n",
       "      <td>2010</td>\n",
       "      <td>0</td>\n",
       "      <td>0</td>\n",
       "      <td>0</td>\n",
       "      <td>0</td>\n",
       "    </tr>\n",
       "    <tr>\n",
       "      <th>87763</th>\n",
       "      <td>2010</td>\n",
       "      <td>0</td>\n",
       "      <td>0</td>\n",
       "      <td>0</td>\n",
       "      <td>0</td>\n",
       "    </tr>\n",
       "    <tr>\n",
       "      <th>87764</th>\n",
       "      <td>2010</td>\n",
       "      <td>0</td>\n",
       "      <td>0</td>\n",
       "      <td>0</td>\n",
       "      <td>0</td>\n",
       "    </tr>\n",
       "    <tr>\n",
       "      <th>87765</th>\n",
       "      <td>2010</td>\n",
       "      <td>0</td>\n",
       "      <td>0</td>\n",
       "      <td>0</td>\n",
       "      <td>0</td>\n",
       "    </tr>\n",
       "  </tbody>\n",
       "</table>\n",
       "</div>"
      ],
      "text/plain": [
       "       incident_date  cost_repairs  indicated_damage  nr_injuries  \\\n",
       "87761           2010             0                 0            0   \n",
       "87762           2010             0                 0            0   \n",
       "87763           2010             0                 0            0   \n",
       "87764           2010             0                 0            0   \n",
       "87765           2010             0                 0            0   \n",
       "\n",
       "       nr_fatalities  \n",
       "87761              0  \n",
       "87762              0  \n",
       "87763              0  \n",
       "87764              0  \n",
       "87765              0  "
      ]
     },
     "execution_count": 85,
     "metadata": {},
     "output_type": "execute_result"
    }
   ],
   "source": [
    "strikes_significance.head()"
   ]
  },
  {
   "cell_type": "markdown",
   "id": "698e5a8f",
   "metadata": {},
   "source": [
    "3) Make the Visualisations"
   ]
  },
  {
   "cell_type": "markdown",
   "id": "7b090e1b",
   "metadata": {},
   "source": [
    "_Annual trend chart_"
   ]
  },
  {
   "cell_type": "code",
   "execution_count": 93,
   "id": "0d12a99d",
   "metadata": {},
   "outputs": [],
   "source": [
    "annual_strikes = strikes_significance.groupby('incident_date').size().reset_index(name='Total Incidents')"
   ]
  },
  {
   "cell_type": "code",
   "execution_count": 98,
   "id": "280eb50a",
   "metadata": {},
   "outputs": [
    {
     "data": {
      "text/html": [
       "\n",
       "<style>\n",
       "  #altair-viz-5322f515f4184345a1275cf6bffdc7e3.vega-embed {\n",
       "    width: 100%;\n",
       "    display: flex;\n",
       "  }\n",
       "\n",
       "  #altair-viz-5322f515f4184345a1275cf6bffdc7e3.vega-embed details,\n",
       "  #altair-viz-5322f515f4184345a1275cf6bffdc7e3.vega-embed details summary {\n",
       "    position: relative;\n",
       "  }\n",
       "</style>\n",
       "<div id=\"altair-viz-5322f515f4184345a1275cf6bffdc7e3\"></div>\n",
       "<script type=\"text/javascript\">\n",
       "  var VEGA_DEBUG = (typeof VEGA_DEBUG == \"undefined\") ? {} : VEGA_DEBUG;\n",
       "  (function(spec, embedOpt){\n",
       "    let outputDiv = document.currentScript.previousElementSibling;\n",
       "    if (outputDiv.id !== \"altair-viz-5322f515f4184345a1275cf6bffdc7e3\") {\n",
       "      outputDiv = document.getElementById(\"altair-viz-5322f515f4184345a1275cf6bffdc7e3\");\n",
       "    }\n",
       "\n",
       "    const paths = {\n",
       "      \"vega\": \"https://cdn.jsdelivr.net/npm/vega@5?noext\",\n",
       "      \"vega-lib\": \"https://cdn.jsdelivr.net/npm/vega-lib?noext\",\n",
       "      \"vega-lite\": \"https://cdn.jsdelivr.net/npm/vega-lite@5.20.1?noext\",\n",
       "      \"vega-embed\": \"https://cdn.jsdelivr.net/npm/vega-embed@6?noext\",\n",
       "    };\n",
       "\n",
       "    function maybeLoadScript(lib, version) {\n",
       "      var key = `${lib.replace(\"-\", \"\")}_version`;\n",
       "      return (VEGA_DEBUG[key] == version) ?\n",
       "        Promise.resolve(paths[lib]) :\n",
       "        new Promise(function(resolve, reject) {\n",
       "          var s = document.createElement('script');\n",
       "          document.getElementsByTagName(\"head\")[0].appendChild(s);\n",
       "          s.async = true;\n",
       "          s.onload = () => {\n",
       "            VEGA_DEBUG[key] = version;\n",
       "            return resolve(paths[lib]);\n",
       "          };\n",
       "          s.onerror = () => reject(`Error loading script: ${paths[lib]}`);\n",
       "          s.src = paths[lib];\n",
       "        });\n",
       "    }\n",
       "\n",
       "    function showError(err) {\n",
       "      outputDiv.innerHTML = `<div class=\"error\" style=\"color:red;\">${err}</div>`;\n",
       "      throw err;\n",
       "    }\n",
       "\n",
       "    function displayChart(vegaEmbed) {\n",
       "      vegaEmbed(outputDiv, spec, embedOpt)\n",
       "        .catch(err => showError(`Javascript Error: ${err.message}<br>This usually means there's a typo in your chart specification. See the javascript console for the full traceback.`));\n",
       "    }\n",
       "\n",
       "    if(typeof define === \"function\" && define.amd) {\n",
       "      requirejs.config({paths});\n",
       "      let deps = [\"vega-embed\"];\n",
       "      require(deps, displayChart, err => showError(`Error loading script: ${err.message}`));\n",
       "    } else {\n",
       "      maybeLoadScript(\"vega\", \"5\")\n",
       "        .then(() => maybeLoadScript(\"vega-lite\", \"5.20.1\"))\n",
       "        .then(() => maybeLoadScript(\"vega-embed\", \"6\"))\n",
       "        .catch(showError)\n",
       "        .then(() => displayChart(vegaEmbed));\n",
       "    }\n",
       "  })({\"config\": {\"view\": {\"continuousWidth\": 300, \"continuousHeight\": 300}}, \"data\": {\"name\": \"data-93d70bc373a17d44e50bd4312145de28\"}, \"mark\": {\"type\": \"line\"}, \"encoding\": {\"tooltip\": [{\"field\": \"incident_date\", \"type\": \"quantitative\"}, {\"field\": \"Total Incidents\", \"type\": \"quantitative\"}], \"x\": {\"field\": \"incident_date\", \"title\": \"Year of Incident\", \"type\": \"quantitative\"}, \"y\": {\"field\": \"Total Incidents\", \"type\": \"quantitative\"}}, \"title\": \"Yearly Trend of Wildlife Strikes (2010-2024)\", \"$schema\": \"https://vega.github.io/schema/vega-lite/v5.20.1.json\", \"datasets\": {\"data-93d70bc373a17d44e50bd4312145de28\": [{\"incident_date\": 2010, \"Total Incidents\": 9898}, {\"incident_date\": 2011, \"Total Incidents\": 10109}, {\"incident_date\": 2012, \"Total Incidents\": 10932}, {\"incident_date\": 2013, \"Total Incidents\": 11408}, {\"incident_date\": 2014, \"Total Incidents\": 13692}, {\"incident_date\": 2015, \"Total Incidents\": 13770}, {\"incident_date\": 2016, \"Total Incidents\": 13324}, {\"incident_date\": 2017, \"Total Incidents\": 14771}, {\"incident_date\": 2018, \"Total Incidents\": 16205}, {\"incident_date\": 2019, \"Total Incidents\": 17353}, {\"incident_date\": 2020, \"Total Incidents\": 11626}, {\"incident_date\": 2021, \"Total Incidents\": 15643}, {\"incident_date\": 2022, \"Total Incidents\": 17216}, {\"incident_date\": 2023, \"Total Incidents\": 19628}, {\"incident_date\": 2024, \"Total Incidents\": 7657}]}}, {\"mode\": \"vega-lite\"});\n",
       "</script>"
      ],
      "text/plain": [
       "alt.Chart(...)"
      ]
     },
     "execution_count": 98,
     "metadata": {},
     "output_type": "execute_result"
    }
   ],
   "source": [
    "yearly_trends = alt.Chart(annual_strikes, title = 'Yearly Trend of Wildlife Strikes (2010-2024)').mark_line().encode(\n",
    "    x = alt.X('incident_date', title='Year of Incident'),\n",
    "    y = 'Total Incidents',\n",
    "    tooltip=['incident_date', 'Total Incidents']\n",
    ")\n",
    "yearly_trends"
   ]
  },
  {
   "cell_type": "markdown",
   "id": "8d8d9bfe",
   "metadata": {},
   "source": [
    "_Cost repairs chart_"
   ]
  },
  {
   "cell_type": "code",
   "execution_count": 113,
   "id": "8d2f4157",
   "metadata": {},
   "outputs": [],
   "source": [
    "strikes_significance['indicated_damage'].value_counts()\n",
    "damages = pd.DataFrame(columns=['Damage Reported', 'Count'], data=[['Yes', 9303], ['No', 193929]])"
   ]
  },
  {
   "cell_type": "code",
   "execution_count": 138,
   "id": "c9a0f52f",
   "metadata": {},
   "outputs": [],
   "source": [
    "strikes_significance[strikes_significance['incident_date'] == 2024 ]['indicated_damage'].value_counts()\n",
    "damages_2024 = pd.DataFrame(columns=['Damage Reported', 'Count'], data=[\n",
    "                       ['Yes', 347], ['No', 7310]])"
   ]
  },
  {
   "cell_type": "code",
   "execution_count": 129,
   "id": "f5012a5e",
   "metadata": {},
   "outputs": [
    {
     "data": {
      "text/html": [
       "\n",
       "<style>\n",
       "  #altair-viz-520df79d59864c7d9a3bef473f39e49d.vega-embed {\n",
       "    width: 100%;\n",
       "    display: flex;\n",
       "  }\n",
       "\n",
       "  #altair-viz-520df79d59864c7d9a3bef473f39e49d.vega-embed details,\n",
       "  #altair-viz-520df79d59864c7d9a3bef473f39e49d.vega-embed details summary {\n",
       "    position: relative;\n",
       "  }\n",
       "</style>\n",
       "<div id=\"altair-viz-520df79d59864c7d9a3bef473f39e49d\"></div>\n",
       "<script type=\"text/javascript\">\n",
       "  var VEGA_DEBUG = (typeof VEGA_DEBUG == \"undefined\") ? {} : VEGA_DEBUG;\n",
       "  (function(spec, embedOpt){\n",
       "    let outputDiv = document.currentScript.previousElementSibling;\n",
       "    if (outputDiv.id !== \"altair-viz-520df79d59864c7d9a3bef473f39e49d\") {\n",
       "      outputDiv = document.getElementById(\"altair-viz-520df79d59864c7d9a3bef473f39e49d\");\n",
       "    }\n",
       "\n",
       "    const paths = {\n",
       "      \"vega\": \"https://cdn.jsdelivr.net/npm/vega@5?noext\",\n",
       "      \"vega-lib\": \"https://cdn.jsdelivr.net/npm/vega-lib?noext\",\n",
       "      \"vega-lite\": \"https://cdn.jsdelivr.net/npm/vega-lite@5.20.1?noext\",\n",
       "      \"vega-embed\": \"https://cdn.jsdelivr.net/npm/vega-embed@6?noext\",\n",
       "    };\n",
       "\n",
       "    function maybeLoadScript(lib, version) {\n",
       "      var key = `${lib.replace(\"-\", \"\")}_version`;\n",
       "      return (VEGA_DEBUG[key] == version) ?\n",
       "        Promise.resolve(paths[lib]) :\n",
       "        new Promise(function(resolve, reject) {\n",
       "          var s = document.createElement('script');\n",
       "          document.getElementsByTagName(\"head\")[0].appendChild(s);\n",
       "          s.async = true;\n",
       "          s.onload = () => {\n",
       "            VEGA_DEBUG[key] = version;\n",
       "            return resolve(paths[lib]);\n",
       "          };\n",
       "          s.onerror = () => reject(`Error loading script: ${paths[lib]}`);\n",
       "          s.src = paths[lib];\n",
       "        });\n",
       "    }\n",
       "\n",
       "    function showError(err) {\n",
       "      outputDiv.innerHTML = `<div class=\"error\" style=\"color:red;\">${err}</div>`;\n",
       "      throw err;\n",
       "    }\n",
       "\n",
       "    function displayChart(vegaEmbed) {\n",
       "      vegaEmbed(outputDiv, spec, embedOpt)\n",
       "        .catch(err => showError(`Javascript Error: ${err.message}<br>This usually means there's a typo in your chart specification. See the javascript console for the full traceback.`));\n",
       "    }\n",
       "\n",
       "    if(typeof define === \"function\" && define.amd) {\n",
       "      requirejs.config({paths});\n",
       "      let deps = [\"vega-embed\"];\n",
       "      require(deps, displayChart, err => showError(`Error loading script: ${err.message}`));\n",
       "    } else {\n",
       "      maybeLoadScript(\"vega\", \"5\")\n",
       "        .then(() => maybeLoadScript(\"vega-lite\", \"5.20.1\"))\n",
       "        .then(() => maybeLoadScript(\"vega-embed\", \"6\"))\n",
       "        .catch(showError)\n",
       "        .then(() => displayChart(vegaEmbed));\n",
       "    }\n",
       "  })({\"config\": {\"view\": {\"continuousWidth\": 300, \"continuousHeight\": 300}}, \"data\": {\"name\": \"data-311875da05d55a5e748c84e1259a2fe4\"}, \"mark\": {\"type\": \"arc\"}, \"encoding\": {\"color\": {\"field\": \"Damage Reported\", \"scale\": {\"scheme\": \"bluegreen\"}, \"type\": \"nominal\"}, \"theta\": {\"field\": \"Count\", \"type\": \"quantitative\"}, \"tooltip\": [{\"field\": \"Count\", \"type\": \"quantitative\"}, {\"field\": \"Damage Reported\", \"type\": \"nominal\"}]}, \"title\": \"Proportion of Reported Damage in Wildlife Strikes\", \"$schema\": \"https://vega.github.io/schema/vega-lite/v5.20.1.json\", \"datasets\": {\"data-311875da05d55a5e748c84e1259a2fe4\": [{\"Damage Reported\": \"Yes\", \"Count\": 9303}, {\"Damage Reported\": \"No\", \"Count\": 193929}]}}, {\"mode\": \"vega-lite\"});\n",
       "</script>"
      ],
      "text/plain": [
       "alt.Chart(...)"
      ]
     },
     "execution_count": 129,
     "metadata": {},
     "output_type": "execute_result"
    }
   ],
   "source": [
    "damages_chart = alt.Chart(damages, title = 'Proportion of Reported Damage in Wildlife Strikes').mark_arc().encode(\n",
    "    theta='Count',\n",
    "    color= alt.Color('Damage Reported').scale(scheme='bluegreen'),\n",
    "    tooltip=['Count', 'Damage Reported'],\n",
    ")\n",
    "damages_chart"
   ]
  },
  {
   "cell_type": "code",
   "execution_count": 141,
   "id": "4e0d0544",
   "metadata": {},
   "outputs": [
    {
     "data": {
      "text/html": [
       "\n",
       "<style>\n",
       "  #altair-viz-07902b0abf2841d99bdce902c8444a6b.vega-embed {\n",
       "    width: 100%;\n",
       "    display: flex;\n",
       "  }\n",
       "\n",
       "  #altair-viz-07902b0abf2841d99bdce902c8444a6b.vega-embed details,\n",
       "  #altair-viz-07902b0abf2841d99bdce902c8444a6b.vega-embed details summary {\n",
       "    position: relative;\n",
       "  }\n",
       "</style>\n",
       "<div id=\"altair-viz-07902b0abf2841d99bdce902c8444a6b\"></div>\n",
       "<script type=\"text/javascript\">\n",
       "  var VEGA_DEBUG = (typeof VEGA_DEBUG == \"undefined\") ? {} : VEGA_DEBUG;\n",
       "  (function(spec, embedOpt){\n",
       "    let outputDiv = document.currentScript.previousElementSibling;\n",
       "    if (outputDiv.id !== \"altair-viz-07902b0abf2841d99bdce902c8444a6b\") {\n",
       "      outputDiv = document.getElementById(\"altair-viz-07902b0abf2841d99bdce902c8444a6b\");\n",
       "    }\n",
       "\n",
       "    const paths = {\n",
       "      \"vega\": \"https://cdn.jsdelivr.net/npm/vega@5?noext\",\n",
       "      \"vega-lib\": \"https://cdn.jsdelivr.net/npm/vega-lib?noext\",\n",
       "      \"vega-lite\": \"https://cdn.jsdelivr.net/npm/vega-lite@5.20.1?noext\",\n",
       "      \"vega-embed\": \"https://cdn.jsdelivr.net/npm/vega-embed@6?noext\",\n",
       "    };\n",
       "\n",
       "    function maybeLoadScript(lib, version) {\n",
       "      var key = `${lib.replace(\"-\", \"\")}_version`;\n",
       "      return (VEGA_DEBUG[key] == version) ?\n",
       "        Promise.resolve(paths[lib]) :\n",
       "        new Promise(function(resolve, reject) {\n",
       "          var s = document.createElement('script');\n",
       "          document.getElementsByTagName(\"head\")[0].appendChild(s);\n",
       "          s.async = true;\n",
       "          s.onload = () => {\n",
       "            VEGA_DEBUG[key] = version;\n",
       "            return resolve(paths[lib]);\n",
       "          };\n",
       "          s.onerror = () => reject(`Error loading script: ${paths[lib]}`);\n",
       "          s.src = paths[lib];\n",
       "        });\n",
       "    }\n",
       "\n",
       "    function showError(err) {\n",
       "      outputDiv.innerHTML = `<div class=\"error\" style=\"color:red;\">${err}</div>`;\n",
       "      throw err;\n",
       "    }\n",
       "\n",
       "    function displayChart(vegaEmbed) {\n",
       "      vegaEmbed(outputDiv, spec, embedOpt)\n",
       "        .catch(err => showError(`Javascript Error: ${err.message}<br>This usually means there's a typo in your chart specification. See the javascript console for the full traceback.`));\n",
       "    }\n",
       "\n",
       "    if(typeof define === \"function\" && define.amd) {\n",
       "      requirejs.config({paths});\n",
       "      let deps = [\"vega-embed\"];\n",
       "      require(deps, displayChart, err => showError(`Error loading script: ${err.message}`));\n",
       "    } else {\n",
       "      maybeLoadScript(\"vega\", \"5\")\n",
       "        .then(() => maybeLoadScript(\"vega-lite\", \"5.20.1\"))\n",
       "        .then(() => maybeLoadScript(\"vega-embed\", \"6\"))\n",
       "        .catch(showError)\n",
       "        .then(() => displayChart(vegaEmbed));\n",
       "    }\n",
       "  })({\"config\": {\"view\": {\"continuousWidth\": 300, \"continuousHeight\": 300}}, \"data\": {\"name\": \"data-f4edcfab0fed59814443a8df9c0804dc\"}, \"mark\": {\"type\": \"arc\"}, \"encoding\": {\"color\": {\"field\": \"Damage Reported\", \"scale\": {\"scheme\": \"bluegreen\"}, \"type\": \"nominal\"}, \"theta\": {\"field\": \"Count\", \"type\": \"quantitative\"}, \"tooltip\": [{\"field\": \"Count\", \"type\": \"quantitative\"}, {\"field\": \"Damage Reported\", \"type\": \"nominal\"}]}, \"title\": \"Proportion of Reported Damage in Wildlife Strikes 2024\", \"$schema\": \"https://vega.github.io/schema/vega-lite/v5.20.1.json\", \"datasets\": {\"data-f4edcfab0fed59814443a8df9c0804dc\": [{\"Damage Reported\": \"Yes\", \"Count\": 347}, {\"Damage Reported\": \"No\", \"Count\": 7310}]}}, {\"mode\": \"vega-lite\"});\n",
       "</script>"
      ],
      "text/plain": [
       "alt.Chart(...)"
      ]
     },
     "execution_count": 141,
     "metadata": {},
     "output_type": "execute_result"
    }
   ],
   "source": [
    "damages_2024_chart = alt.Chart(damages_2024, title='Proportion of Reported Damage in Wildlife Strikes 2024').mark_arc().encode(\n",
    "    theta='Count',\n",
    "    color=alt.Color('Damage Reported').scale(scheme='bluegreen'),\n",
    "    tooltip=['Count', 'Damage Reported'],\n",
    ")\n",
    "damages_2024_chart"
   ]
  },
  {
   "cell_type": "code",
   "execution_count": 149,
   "id": "23c5ae66",
   "metadata": {},
   "outputs": [],
   "source": [
    "injuries = strikes_significance.groupby('incident_date')['nr_injuries'].sum().reset_index()\n",
    "fatalities = strikes_significance.groupby(\n",
    "    'incident_date')['nr_fatalities'].sum().reset_index()"
   ]
  },
  {
   "cell_type": "code",
   "execution_count": 179,
   "id": "0b1d29dd",
   "metadata": {},
   "outputs": [
    {
     "data": {
      "text/html": [
       "<div>\n",
       "<style scoped>\n",
       "    .dataframe tbody tr th:only-of-type {\n",
       "        vertical-align: middle;\n",
       "    }\n",
       "\n",
       "    .dataframe tbody tr th {\n",
       "        vertical-align: top;\n",
       "    }\n",
       "\n",
       "    .dataframe thead th {\n",
       "        text-align: right;\n",
       "    }\n",
       "</style>\n",
       "<table border=\"1\" class=\"dataframe\">\n",
       "  <thead>\n",
       "    <tr style=\"text-align: right;\">\n",
       "      <th></th>\n",
       "      <th>incident_date</th>\n",
       "      <th>nr_injuries</th>\n",
       "      <th>nr_fatalities</th>\n",
       "    </tr>\n",
       "  </thead>\n",
       "  <tbody>\n",
       "    <tr>\n",
       "      <th>0</th>\n",
       "      <td>2010</td>\n",
       "      <td>14</td>\n",
       "      <td>0</td>\n",
       "    </tr>\n",
       "    <tr>\n",
       "      <th>1</th>\n",
       "      <td>2011</td>\n",
       "      <td>13</td>\n",
       "      <td>1</td>\n",
       "    </tr>\n",
       "    <tr>\n",
       "      <th>2</th>\n",
       "      <td>2012</td>\n",
       "      <td>18</td>\n",
       "      <td>2</td>\n",
       "    </tr>\n",
       "    <tr>\n",
       "      <th>3</th>\n",
       "      <td>2013</td>\n",
       "      <td>10</td>\n",
       "      <td>1</td>\n",
       "    </tr>\n",
       "    <tr>\n",
       "      <th>4</th>\n",
       "      <td>2014</td>\n",
       "      <td>10</td>\n",
       "      <td>0</td>\n",
       "    </tr>\n",
       "    <tr>\n",
       "      <th>5</th>\n",
       "      <td>2015</td>\n",
       "      <td>6</td>\n",
       "      <td>0</td>\n",
       "    </tr>\n",
       "    <tr>\n",
       "      <th>6</th>\n",
       "      <td>2016</td>\n",
       "      <td>7</td>\n",
       "      <td>4</td>\n",
       "    </tr>\n",
       "    <tr>\n",
       "      <th>7</th>\n",
       "      <td>2017</td>\n",
       "      <td>6</td>\n",
       "      <td>6</td>\n",
       "    </tr>\n",
       "    <tr>\n",
       "      <th>8</th>\n",
       "      <td>2018</td>\n",
       "      <td>11</td>\n",
       "      <td>3</td>\n",
       "    </tr>\n",
       "    <tr>\n",
       "      <th>9</th>\n",
       "      <td>2019</td>\n",
       "      <td>7</td>\n",
       "      <td>3</td>\n",
       "    </tr>\n",
       "    <tr>\n",
       "      <th>10</th>\n",
       "      <td>2020</td>\n",
       "      <td>1</td>\n",
       "      <td>1</td>\n",
       "    </tr>\n",
       "    <tr>\n",
       "      <th>11</th>\n",
       "      <td>2021</td>\n",
       "      <td>8</td>\n",
       "      <td>3</td>\n",
       "    </tr>\n",
       "    <tr>\n",
       "      <th>12</th>\n",
       "      <td>2022</td>\n",
       "      <td>8</td>\n",
       "      <td>0</td>\n",
       "    </tr>\n",
       "    <tr>\n",
       "      <th>13</th>\n",
       "      <td>2023</td>\n",
       "      <td>11</td>\n",
       "      <td>0</td>\n",
       "    </tr>\n",
       "    <tr>\n",
       "      <th>14</th>\n",
       "      <td>2024</td>\n",
       "      <td>8</td>\n",
       "      <td>3</td>\n",
       "    </tr>\n",
       "  </tbody>\n",
       "</table>\n",
       "</div>"
      ],
      "text/plain": [
       "    incident_date  nr_injuries  nr_fatalities\n",
       "0            2010           14              0\n",
       "1            2011           13              1\n",
       "2            2012           18              2\n",
       "3            2013           10              1\n",
       "4            2014           10              0\n",
       "5            2015            6              0\n",
       "6            2016            7              4\n",
       "7            2017            6              6\n",
       "8            2018           11              3\n",
       "9            2019            7              3\n",
       "10           2020            1              1\n",
       "11           2021            8              3\n",
       "12           2022            8              0\n",
       "13           2023           11              0\n",
       "14           2024            8              3"
      ]
     },
     "execution_count": 179,
     "metadata": {},
     "output_type": "execute_result"
    }
   ],
   "source": [
    "injury_fatalities = injuries.merge(fatalities)\n",
    "injury_fatalities\n"
   ]
  },
  {
   "cell_type": "code",
   "execution_count": 193,
   "id": "81652f04",
   "metadata": {},
   "outputs": [],
   "source": [
    "injuries_fatalities_chart = alt.Chart(injury_fatalities).transform_fold(['nr_injuries', 'nr_fatalities'], as_=['incident_type', 'count']).mark_bar().encode(\n",
    "     x=alt.X('incident_date:O', title='Incident Year'),\n",
    "    y = alt.Y('count:Q', title='Total Injuries and Fatalities'),\n",
    "    color=alt.Color('incident_type:N').scale(scheme='bluepurple'),\n",
    "    tooltip=['nr_injuries','nr_fatalities']\n",
    ")"
   ]
  },
  {
   "cell_type": "code",
   "execution_count": 158,
   "id": "b6281c83",
   "metadata": {},
   "outputs": [],
   "source": [
    "cost_repairs_by_year = strikes_significance.groupby('incident_date')['cost_repairs'].sum().reset_index()"
   ]
  },
  {
   "cell_type": "code",
   "execution_count": 380,
   "id": "ac96863e",
   "metadata": {},
   "outputs": [],
   "source": [
    "cost_repairs_chart = alt.Chart(cost_repairs_by_year, title = 'Total Cost Repairs Per year').mark_bar().encode(\n",
    "    x = alt.X('cost_repairs:Q', title='Cost of Repairs'),\n",
    "    y= alt.Y('incident_date:O', title='Year'),\n",
    "    tooltip=['cost_repairs','incident_date'],\n",
    "    color = alt.Color('cost_repairs').legend(None).scale(scheme='blues')\n",
    ")"
   ]
  },
  {
   "cell_type": "markdown",
   "id": "6d4ae3e2",
   "metadata": {},
   "source": [
    "**Are strikes by particular animals more likely/dangerous than others?**\n"
   ]
  },
  {
   "cell_type": "code",
   "execution_count": 200,
   "id": "dde6b2a3",
   "metadata": {},
   "outputs": [],
   "source": [
    "strikes_query = \"\"\"SELECT species, indicated_damage,cost_repairs, nr_injuries, nr_fatalities \n",
    "FROM wildlife_strike\"\"\"\n",
    "curs.execute(strikes_query)\n",
    "animal_details = curs.fetch_dataframe()"
   ]
  },
  {
   "cell_type": "code",
   "execution_count": 202,
   "id": "296ada05",
   "metadata": {},
   "outputs": [],
   "source": [
    "animal_details = convert_str_to_ints(animal_details, 'nr_injuries')\n",
    "\n",
    "animal_details= convert_str_to_ints(\n",
    "    animal_details, 'nr_fatalities')\n",
    "\n",
    "animal_details = convert_str_to_ints(\n",
    "    animal_details, 'cost_repairs')\n",
    "\n",
    "animal_details= convert_str_to_ints(\n",
    "    animal_details, 'indicated_damage')"
   ]
  },
  {
   "cell_type": "code",
   "execution_count": 293,
   "id": "4b534b88",
   "metadata": {},
   "outputs": [
    {
     "data": {
      "text/plain": [
       "species\n",
       "Unknown bird - small        50726\n",
       "Unknown bird - medium       38709\n",
       "Unknown bird                27860\n",
       "Mourning dove               15331\n",
       "Barn swallow                10083\n",
       "                            ...  \n",
       "Long-tailed weasel              1\n",
       "Little owl                      1\n",
       "Rook                            1\n",
       "Broad-tailed hummingbird        1\n",
       "Frigatebirds                    1\n",
       "Name: count, Length: 916, dtype: int64"
      ]
     },
     "execution_count": 293,
     "metadata": {},
     "output_type": "execute_result"
    }
   ],
   "source": [
    "animal_details['species'].value_counts()"
   ]
  },
  {
   "cell_type": "code",
   "execution_count": 258,
   "id": "e80c6b1f",
   "metadata": {},
   "outputs": [],
   "source": [
    "top_10 = animal_details.groupby('species').size().sort_values(ascending=False).head(10).reset_index(name='num_strikes')\n"
   ]
  },
  {
   "cell_type": "code",
   "execution_count": 259,
   "id": "abae3b17",
   "metadata": {},
   "outputs": [],
   "source": [
    "bottom_10 = animal_details.groupby('species').size().sort_values(\n",
    "    ascending=False).tail(10).reset_index(name='num_strikes')"
   ]
  },
  {
   "cell_type": "code",
   "execution_count": 292,
   "id": "0cb7292b",
   "metadata": {},
   "outputs": [],
   "source": [
    "animal_num_strikes = pd.concat([top_10, bottom_10])\n"
   ]
  },
  {
   "cell_type": "code",
   "execution_count": 263,
   "id": "c164e05f",
   "metadata": {},
   "outputs": [],
   "source": [
    "animal_cost_effect = animal_details.groupby('species')['cost_repairs'].sum().reset_index()"
   ]
  },
  {
   "cell_type": "code",
   "execution_count": 291,
   "id": "265ef835",
   "metadata": {},
   "outputs": [],
   "source": [
    "animals_count_and_cost = animal_num_strikes.merge(animal_cost_effect)\n"
   ]
  },
  {
   "cell_type": "code",
   "execution_count": 270,
   "id": "25b2e539",
   "metadata": {},
   "outputs": [],
   "source": [
    "animals_chart = alt.Chart(animals_count_and_cost, title ='Strike Frequency and Repair Costs by Top 10 and Bottom 10 Species' ).mark_circle(size=60).encode(\n",
    "    x= alt.X('num_strikes', title='Number of Strikes'),\n",
    "    y= alt.Y('cost_repairs', title='Total Cost Repairs'),\n",
    "    color='species',\n",
    "    tooltip=['species', 'num_strikes', 'cost_repairs']\n",
    "\n",
    ")"
   ]
  },
  {
   "cell_type": "markdown",
   "id": "8f1b1e80",
   "metadata": {},
   "source": [
    "**When and in what conditions are strikes most likely?**\n"
   ]
  },
  {
   "cell_type": "code",
   "execution_count": 314,
   "id": "2d61578c",
   "metadata": {},
   "outputs": [],
   "source": [
    "conditions_query = \"\"\"SELECT incident_date, time_of_day, sky, precipitation, phase_of_flight, height, speed\n",
    "FROM wildlife_strike\"\"\"\n",
    "curs.execute(conditions_query)\n",
    "strike_conditions = curs.fetch_dataframe()"
   ]
  },
  {
   "cell_type": "code",
   "execution_count": 316,
   "id": "887001d6",
   "metadata": {},
   "outputs": [],
   "source": [
    "strike_conditions['incident_date'] = pd.to_datetime(\n",
    "    strike_conditions['incident_date']).dt.year\n",
    "strike_conditions = strike_conditions[strike_conditions['incident_date'] >= 2010]"
   ]
  },
  {
   "cell_type": "code",
   "execution_count": 318,
   "id": "6d72ee5e",
   "metadata": {},
   "outputs": [],
   "source": [
    "strike_conditions = convert_str_to_ints(strike_conditions, 'height')\n",
    "\n",
    "strike_conditions= convert_str_to_ints(\n",
    "    strike_conditions, 'speed')"
   ]
  },
  {
   "cell_type": "code",
   "execution_count": 304,
   "id": "bc91733f",
   "metadata": {},
   "outputs": [],
   "source": [
    "def convert_empty_strings_to_unknown(df, column_name):\n",
    "    \"\"\"Replaces empty strings with 'unknown'.\"\"\"\n",
    "    df[column_name] = df[column_name].replace('', 'Unknown')\n",
    "    return df "
   ]
  },
  {
   "cell_type": "code",
   "execution_count": 320,
   "id": "a9fb5372",
   "metadata": {},
   "outputs": [],
   "source": [
    "strike_conditions = convert_empty_strings_to_unknown(strike_conditions, \"time_of_day\")\n",
    "strike_conditions = convert_empty_strings_to_unknown(\n",
    "    strike_conditions, \"sky\")\n",
    "strike_conditions = convert_empty_strings_to_unknown(\n",
    "    strike_conditions, \"precipitation\")\n",
    "strike_conditions = convert_empty_strings_to_unknown(\n",
    "    strike_conditions, \"phase_of_flight\")"
   ]
  },
  {
   "cell_type": "code",
   "execution_count": null,
   "id": "a57c2d69",
   "metadata": {},
   "outputs": [
    {
     "data": {
      "text/plain": [
       "np.int64(203232)"
      ]
     },
     "execution_count": 348,
     "metadata": {},
     "output_type": "execute_result"
    }
   ],
   "source": [
    "sky_strikes = strike_conditions.groupby('sky').size().sort_values(ascending=False).reset_index(name='num_strikes')\n",
    "# drop row for unknown condition\n",
    "sky_strikes_excl_ukn = sky_strikes.drop(0)"
   ]
  },
  {
   "cell_type": "code",
   "execution_count": 373,
   "id": "2db2244e",
   "metadata": {},
   "outputs": [
    {
     "data": {
      "text/plain": [
       "0    55.92\n",
       "Name: num_strikes, dtype: float64"
      ]
     },
     "execution_count": 373,
     "metadata": {},
     "output_type": "execute_result"
    }
   ],
   "source": [
    "# percentage of values that are unknown\n",
    "unknown_sky = sky_strikes[sky_strikes['sky'] == 'Unknown']\n",
    "((unknown_sky['num_strikes']/203232)*100).round(2)"
   ]
  },
  {
   "cell_type": "code",
   "execution_count": null,
   "id": "3187cdb6",
   "metadata": {},
   "outputs": [
    {
     "data": {
      "text/html": [
       "<div>\n",
       "<style scoped>\n",
       "    .dataframe tbody tr th:only-of-type {\n",
       "        vertical-align: middle;\n",
       "    }\n",
       "\n",
       "    .dataframe tbody tr th {\n",
       "        vertical-align: top;\n",
       "    }\n",
       "\n",
       "    .dataframe thead th {\n",
       "        text-align: right;\n",
       "    }\n",
       "</style>\n",
       "<table border=\"1\" class=\"dataframe\">\n",
       "  <thead>\n",
       "    <tr style=\"text-align: right;\">\n",
       "      <th></th>\n",
       "      <th>phase_of_flight</th>\n",
       "      <th>num_strikes</th>\n",
       "    </tr>\n",
       "  </thead>\n",
       "  <tbody>\n",
       "    <tr>\n",
       "      <th>0</th>\n",
       "      <td>Unknown</td>\n",
       "      <td>88579</td>\n",
       "    </tr>\n",
       "  </tbody>\n",
       "</table>\n",
       "</div>"
      ],
      "text/plain": [
       "  phase_of_flight  num_strikes\n",
       "0         Unknown        88579"
      ]
     },
     "execution_count": 355,
     "metadata": {},
     "output_type": "execute_result"
    }
   ],
   "source": [
    "phase_strikes = strike_conditions.groupby(\n",
    "    'phase_of_flight').size().sort_values(ascending=False).reset_index(name='num_strikes')\n",
    "# drop row for unknown condition\n",
    "phase_strikes_excl_ukn = phase_strikes.drop(0)"
   ]
  },
  {
   "cell_type": "code",
   "execution_count": null,
   "id": "94658a75",
   "metadata": {},
   "outputs": [
    {
     "data": {
      "text/plain": [
       "0    43.59\n",
       "Name: num_strikes, dtype: float64"
      ]
     },
     "execution_count": 361,
     "metadata": {},
     "output_type": "execute_result"
    }
   ],
   "source": [
    "# percentage of values that are unknown\n",
    "unknown_phase = phase_strikes[phase_strikes['phase_of_flight'] == 'Unknown']\n",
    "((unknown_phase['num_strikes']/203232)*100).round(2)"
   ]
  },
  {
   "cell_type": "code",
   "execution_count": null,
   "id": "272db05a",
   "metadata": {},
   "outputs": [],
   "source": [
    "precipitation_strikes = strike_conditions.groupby('precipitation').size().sort_values(\n",
    "    ascending=False).reset_index(name='num_strikes')\n",
    "# drop row for unknown condition\n",
    "precipitation_strikes_excl_ukn = precipitation_strikes.drop(0)"
   ]
  },
  {
   "cell_type": "code",
   "execution_count": null,
   "id": "79fab89b",
   "metadata": {},
   "outputs": [
    {
     "data": {
      "text/plain": [
       "0    96.94\n",
       "Name: num_strikes, dtype: float64"
      ]
     },
     "execution_count": 369,
     "metadata": {},
     "output_type": "execute_result"
    }
   ],
   "source": [
    "# percentage of values that are unknown\n",
    "unknown_precipitation = precipitation_strikes[precipitation_strikes[\"precipitation\"] == 'Unknown']\n",
    "((unknown_precipitation['num_strikes']/203232)*100).round(2)"
   ]
  },
  {
   "cell_type": "code",
   "execution_count": null,
   "id": "32dd534f",
   "metadata": {},
   "outputs": [],
   "source": [
    "time_strikes = strike_conditions.groupby('time_of_day').size().sort_values(\n",
    "    ascending=False).reset_index(name='num_strikes')\n",
    "# drop row for unknown condition\n",
    "time_strikes_excl_ukn = time_strikes.drop(0)"
   ]
  },
  {
   "cell_type": "code",
   "execution_count": null,
   "id": "632766d8",
   "metadata": {},
   "outputs": [
    {
     "data": {
      "text/plain": [
       "0    47.4\n",
       "Name: num_strikes, dtype: float64"
      ]
     },
     "execution_count": 371,
     "metadata": {},
     "output_type": "execute_result"
    }
   ],
   "source": [
    "# percentage of values that are unknown\n",
    "unknown_time = time_strikes[time_strikes[\"time_of_day\"] == 'Unknown']\n",
    "((unknown_time['num_strikes']/203232)*100).round(2)"
   ]
  },
  {
   "cell_type": "markdown",
   "id": "78af7635",
   "metadata": {},
   "source": [
    "_Making the charts_"
   ]
  },
  {
   "cell_type": "code",
   "execution_count": 392,
   "id": "ef432269",
   "metadata": {},
   "outputs": [
    {
     "data": {
      "text/html": [
       "\n",
       "<style>\n",
       "  #altair-viz-4bb4ef102fd04c97a8b8ba742ff4ac77.vega-embed {\n",
       "    width: 100%;\n",
       "    display: flex;\n",
       "  }\n",
       "\n",
       "  #altair-viz-4bb4ef102fd04c97a8b8ba742ff4ac77.vega-embed details,\n",
       "  #altair-viz-4bb4ef102fd04c97a8b8ba742ff4ac77.vega-embed details summary {\n",
       "    position: relative;\n",
       "  }\n",
       "</style>\n",
       "<div id=\"altair-viz-4bb4ef102fd04c97a8b8ba742ff4ac77\"></div>\n",
       "<script type=\"text/javascript\">\n",
       "  var VEGA_DEBUG = (typeof VEGA_DEBUG == \"undefined\") ? {} : VEGA_DEBUG;\n",
       "  (function(spec, embedOpt){\n",
       "    let outputDiv = document.currentScript.previousElementSibling;\n",
       "    if (outputDiv.id !== \"altair-viz-4bb4ef102fd04c97a8b8ba742ff4ac77\") {\n",
       "      outputDiv = document.getElementById(\"altair-viz-4bb4ef102fd04c97a8b8ba742ff4ac77\");\n",
       "    }\n",
       "\n",
       "    const paths = {\n",
       "      \"vega\": \"https://cdn.jsdelivr.net/npm/vega@5?noext\",\n",
       "      \"vega-lib\": \"https://cdn.jsdelivr.net/npm/vega-lib?noext\",\n",
       "      \"vega-lite\": \"https://cdn.jsdelivr.net/npm/vega-lite@5.20.1?noext\",\n",
       "      \"vega-embed\": \"https://cdn.jsdelivr.net/npm/vega-embed@6?noext\",\n",
       "    };\n",
       "\n",
       "    function maybeLoadScript(lib, version) {\n",
       "      var key = `${lib.replace(\"-\", \"\")}_version`;\n",
       "      return (VEGA_DEBUG[key] == version) ?\n",
       "        Promise.resolve(paths[lib]) :\n",
       "        new Promise(function(resolve, reject) {\n",
       "          var s = document.createElement('script');\n",
       "          document.getElementsByTagName(\"head\")[0].appendChild(s);\n",
       "          s.async = true;\n",
       "          s.onload = () => {\n",
       "            VEGA_DEBUG[key] = version;\n",
       "            return resolve(paths[lib]);\n",
       "          };\n",
       "          s.onerror = () => reject(`Error loading script: ${paths[lib]}`);\n",
       "          s.src = paths[lib];\n",
       "        });\n",
       "    }\n",
       "\n",
       "    function showError(err) {\n",
       "      outputDiv.innerHTML = `<div class=\"error\" style=\"color:red;\">${err}</div>`;\n",
       "      throw err;\n",
       "    }\n",
       "\n",
       "    function displayChart(vegaEmbed) {\n",
       "      vegaEmbed(outputDiv, spec, embedOpt)\n",
       "        .catch(err => showError(`Javascript Error: ${err.message}<br>This usually means there's a typo in your chart specification. See the javascript console for the full traceback.`));\n",
       "    }\n",
       "\n",
       "    if(typeof define === \"function\" && define.amd) {\n",
       "      requirejs.config({paths});\n",
       "      let deps = [\"vega-embed\"];\n",
       "      require(deps, displayChart, err => showError(`Error loading script: ${err.message}`));\n",
       "    } else {\n",
       "      maybeLoadScript(\"vega\", \"5\")\n",
       "        .then(() => maybeLoadScript(\"vega-lite\", \"5.20.1\"))\n",
       "        .then(() => maybeLoadScript(\"vega-embed\", \"6\"))\n",
       "        .catch(showError)\n",
       "        .then(() => displayChart(vegaEmbed));\n",
       "    }\n",
       "  })({\"config\": {\"view\": {\"continuousWidth\": 300, \"continuousHeight\": 300}}, \"data\": {\"name\": \"data-4d8828ff9cb1bae2380066d82ff9137f\"}, \"mark\": {\"type\": \"bar\"}, \"encoding\": {\"color\": {\"field\": \"sky\", \"legend\": null, \"scale\": {\"scheme\": \"bluegreen\", \"reverse\": true}, \"type\": \"nominal\"}, \"tooltip\": [{\"field\": \"sky\", \"type\": \"nominal\"}, {\"field\": \"num_strikes\", \"type\": \"quantitative\"}], \"x\": {\"field\": \"num_strikes\", \"title\": \"Number of Strikes\", \"type\": \"quantitative\"}, \"y\": {\"field\": \"sky\", \"sort\": \"-x\", \"title\": \"Condition of Sky\", \"type\": \"ordinal\"}}, \"$schema\": \"https://vega.github.io/schema/vega-lite/v5.20.1.json\", \"datasets\": {\"data-4d8828ff9cb1bae2380066d82ff9137f\": [{\"sky\": \"No Cloud\", \"num_strikes\": 43989}, {\"sky\": \"Some Cloud\", \"num_strikes\": 31523}, {\"sky\": \"Overcast\", \"num_strikes\": 14075}]}}, {\"mode\": \"vega-lite\"});\n",
       "</script>"
      ],
      "text/plain": [
       "alt.Chart(...)"
      ]
     },
     "execution_count": 392,
     "metadata": {},
     "output_type": "execute_result"
    }
   ],
   "source": [
    "sky_chart = alt.Chart(sky_strikes_excl_ukn).mark_bar().encode(\n",
    "    x=alt.X('num_strikes:Q', title='Number of Strikes'),\n",
    "    y = alt.Y('sky:O', title = 'Condition of Sky').sort('-x'),\n",
    "    tooltip=['sky', 'num_strikes'],\n",
    "    color= alt.Color('sky').legend(None).scale(scheme='bluegreen', reverse=True)\n",
    ")\n",
    "sky_chart"
   ]
  },
  {
   "cell_type": "code",
   "execution_count": 386,
   "id": "d9da7227",
   "metadata": {},
   "outputs": [
    {
     "data": {
      "text/html": [
       "<div>\n",
       "<style scoped>\n",
       "    .dataframe tbody tr th:only-of-type {\n",
       "        vertical-align: middle;\n",
       "    }\n",
       "\n",
       "    .dataframe tbody tr th {\n",
       "        vertical-align: top;\n",
       "    }\n",
       "\n",
       "    .dataframe thead th {\n",
       "        text-align: right;\n",
       "    }\n",
       "</style>\n",
       "<table border=\"1\" class=\"dataframe\">\n",
       "  <thead>\n",
       "    <tr style=\"text-align: right;\">\n",
       "      <th></th>\n",
       "      <th>phase_of_flight</th>\n",
       "      <th>num_strikes</th>\n",
       "    </tr>\n",
       "  </thead>\n",
       "  <tbody>\n",
       "    <tr>\n",
       "      <th>1</th>\n",
       "      <td>Approach</td>\n",
       "      <td>49752</td>\n",
       "    </tr>\n",
       "    <tr>\n",
       "      <th>2</th>\n",
       "      <td>Landing Roll</td>\n",
       "      <td>21004</td>\n",
       "    </tr>\n",
       "    <tr>\n",
       "      <th>3</th>\n",
       "      <td>Take-off Run</td>\n",
       "      <td>17533</td>\n",
       "    </tr>\n",
       "    <tr>\n",
       "      <th>4</th>\n",
       "      <td>Climb</td>\n",
       "      <td>15524</td>\n",
       "    </tr>\n",
       "    <tr>\n",
       "      <th>5</th>\n",
       "      <td>En Route</td>\n",
       "      <td>3874</td>\n",
       "    </tr>\n",
       "    <tr>\n",
       "      <th>6</th>\n",
       "      <td>Departure</td>\n",
       "      <td>3068</td>\n",
       "    </tr>\n",
       "    <tr>\n",
       "      <th>7</th>\n",
       "      <td>Descent</td>\n",
       "      <td>1545</td>\n",
       "    </tr>\n",
       "    <tr>\n",
       "      <th>8</th>\n",
       "      <td>Local</td>\n",
       "      <td>1162</td>\n",
       "    </tr>\n",
       "    <tr>\n",
       "      <th>9</th>\n",
       "      <td>Arrival</td>\n",
       "      <td>688</td>\n",
       "    </tr>\n",
       "    <tr>\n",
       "      <th>10</th>\n",
       "      <td>Taxi</td>\n",
       "      <td>424</td>\n",
       "    </tr>\n",
       "    <tr>\n",
       "      <th>11</th>\n",
       "      <td>Parked</td>\n",
       "      <td>79</td>\n",
       "    </tr>\n",
       "  </tbody>\n",
       "</table>\n",
       "</div>"
      ],
      "text/plain": [
       "   phase_of_flight  num_strikes\n",
       "1         Approach        49752\n",
       "2     Landing Roll        21004\n",
       "3     Take-off Run        17533\n",
       "4            Climb        15524\n",
       "5         En Route         3874\n",
       "6        Departure         3068\n",
       "7          Descent         1545\n",
       "8            Local         1162\n",
       "9          Arrival          688\n",
       "10            Taxi          424\n",
       "11          Parked           79"
      ]
     },
     "execution_count": 386,
     "metadata": {},
     "output_type": "execute_result"
    }
   ],
   "source": [
    "phase_strikes_excl_ukn"
   ]
  },
  {
   "cell_type": "code",
   "execution_count": 391,
   "id": "0784e9e7",
   "metadata": {},
   "outputs": [
    {
     "data": {
      "text/html": [
       "\n",
       "<style>\n",
       "  #altair-viz-1dae0d2725e84eeaacc10b8f50c2e9b6.vega-embed {\n",
       "    width: 100%;\n",
       "    display: flex;\n",
       "  }\n",
       "\n",
       "  #altair-viz-1dae0d2725e84eeaacc10b8f50c2e9b6.vega-embed details,\n",
       "  #altair-viz-1dae0d2725e84eeaacc10b8f50c2e9b6.vega-embed details summary {\n",
       "    position: relative;\n",
       "  }\n",
       "</style>\n",
       "<div id=\"altair-viz-1dae0d2725e84eeaacc10b8f50c2e9b6\"></div>\n",
       "<script type=\"text/javascript\">\n",
       "  var VEGA_DEBUG = (typeof VEGA_DEBUG == \"undefined\") ? {} : VEGA_DEBUG;\n",
       "  (function(spec, embedOpt){\n",
       "    let outputDiv = document.currentScript.previousElementSibling;\n",
       "    if (outputDiv.id !== \"altair-viz-1dae0d2725e84eeaacc10b8f50c2e9b6\") {\n",
       "      outputDiv = document.getElementById(\"altair-viz-1dae0d2725e84eeaacc10b8f50c2e9b6\");\n",
       "    }\n",
       "\n",
       "    const paths = {\n",
       "      \"vega\": \"https://cdn.jsdelivr.net/npm/vega@5?noext\",\n",
       "      \"vega-lib\": \"https://cdn.jsdelivr.net/npm/vega-lib?noext\",\n",
       "      \"vega-lite\": \"https://cdn.jsdelivr.net/npm/vega-lite@5.20.1?noext\",\n",
       "      \"vega-embed\": \"https://cdn.jsdelivr.net/npm/vega-embed@6?noext\",\n",
       "    };\n",
       "\n",
       "    function maybeLoadScript(lib, version) {\n",
       "      var key = `${lib.replace(\"-\", \"\")}_version`;\n",
       "      return (VEGA_DEBUG[key] == version) ?\n",
       "        Promise.resolve(paths[lib]) :\n",
       "        new Promise(function(resolve, reject) {\n",
       "          var s = document.createElement('script');\n",
       "          document.getElementsByTagName(\"head\")[0].appendChild(s);\n",
       "          s.async = true;\n",
       "          s.onload = () => {\n",
       "            VEGA_DEBUG[key] = version;\n",
       "            return resolve(paths[lib]);\n",
       "          };\n",
       "          s.onerror = () => reject(`Error loading script: ${paths[lib]}`);\n",
       "          s.src = paths[lib];\n",
       "        });\n",
       "    }\n",
       "\n",
       "    function showError(err) {\n",
       "      outputDiv.innerHTML = `<div class=\"error\" style=\"color:red;\">${err}</div>`;\n",
       "      throw err;\n",
       "    }\n",
       "\n",
       "    function displayChart(vegaEmbed) {\n",
       "      vegaEmbed(outputDiv, spec, embedOpt)\n",
       "        .catch(err => showError(`Javascript Error: ${err.message}<br>This usually means there's a typo in your chart specification. See the javascript console for the full traceback.`));\n",
       "    }\n",
       "\n",
       "    if(typeof define === \"function\" && define.amd) {\n",
       "      requirejs.config({paths});\n",
       "      let deps = [\"vega-embed\"];\n",
       "      require(deps, displayChart, err => showError(`Error loading script: ${err.message}`));\n",
       "    } else {\n",
       "      maybeLoadScript(\"vega\", \"5\")\n",
       "        .then(() => maybeLoadScript(\"vega-lite\", \"5.20.1\"))\n",
       "        .then(() => maybeLoadScript(\"vega-embed\", \"6\"))\n",
       "        .catch(showError)\n",
       "        .then(() => displayChart(vegaEmbed));\n",
       "    }\n",
       "  })({\"config\": {\"view\": {\"continuousWidth\": 300, \"continuousHeight\": 300}}, \"data\": {\"name\": \"data-49820238f6d9f5c7891b1186bdafd74a\"}, \"mark\": {\"type\": \"bar\"}, \"encoding\": {\"color\": {\"field\": \"phase_of_flight\", \"legend\": null, \"scale\": {\"scheme\": \"bluegreen\", \"reverse\": true}, \"type\": \"nominal\"}, \"tooltip\": [{\"field\": \"phase_of_flight\", \"type\": \"nominal\"}, {\"field\": \"num_strikes\", \"type\": \"quantitative\"}], \"x\": {\"field\": \"num_strikes\", \"title\": \"Number of Strikes\", \"type\": \"quantitative\"}, \"y\": {\"field\": \"phase_of_flight\", \"sort\": \"-x\", \"title\": \"Phase of Flight\", \"type\": \"ordinal\"}}, \"$schema\": \"https://vega.github.io/schema/vega-lite/v5.20.1.json\", \"datasets\": {\"data-49820238f6d9f5c7891b1186bdafd74a\": [{\"phase_of_flight\": \"Approach\", \"num_strikes\": 49752}, {\"phase_of_flight\": \"Landing Roll\", \"num_strikes\": 21004}, {\"phase_of_flight\": \"Take-off Run\", \"num_strikes\": 17533}, {\"phase_of_flight\": \"Climb\", \"num_strikes\": 15524}, {\"phase_of_flight\": \"En Route\", \"num_strikes\": 3874}, {\"phase_of_flight\": \"Departure\", \"num_strikes\": 3068}, {\"phase_of_flight\": \"Descent\", \"num_strikes\": 1545}, {\"phase_of_flight\": \"Local\", \"num_strikes\": 1162}, {\"phase_of_flight\": \"Arrival\", \"num_strikes\": 688}, {\"phase_of_flight\": \"Taxi\", \"num_strikes\": 424}, {\"phase_of_flight\": \"Parked\", \"num_strikes\": 79}]}}, {\"mode\": \"vega-lite\"});\n",
       "</script>"
      ],
      "text/plain": [
       "alt.Chart(...)"
      ]
     },
     "execution_count": 391,
     "metadata": {},
     "output_type": "execute_result"
    }
   ],
   "source": [
    "phase_of_flight_chart = alt.Chart(phase_strikes_excl_ukn).mark_bar().encode(\n",
    "    x=alt.X('num_strikes:Q', title='Number of Strikes'),\n",
    "    y=alt.Y('phase_of_flight:O', title='Phase of Flight').sort('-x'),\n",
    "    tooltip=['phase_of_flight', 'num_strikes'],\n",
    "    color=alt.Color('phase_of_flight').legend(None).scale(scheme='bluegreen', reverse=True)\n",
    ")\n",
    "phase_of_flight_chart"
   ]
  },
  {
   "cell_type": "code",
   "execution_count": 393,
   "id": "3d5ade9e",
   "metadata": {},
   "outputs": [
    {
     "data": {
      "text/html": [
       "<div>\n",
       "<style scoped>\n",
       "    .dataframe tbody tr th:only-of-type {\n",
       "        vertical-align: middle;\n",
       "    }\n",
       "\n",
       "    .dataframe tbody tr th {\n",
       "        vertical-align: top;\n",
       "    }\n",
       "\n",
       "    .dataframe thead th {\n",
       "        text-align: right;\n",
       "    }\n",
       "</style>\n",
       "<table border=\"1\" class=\"dataframe\">\n",
       "  <thead>\n",
       "    <tr style=\"text-align: right;\">\n",
       "      <th></th>\n",
       "      <th>precipitation</th>\n",
       "      <th>num_strikes</th>\n",
       "    </tr>\n",
       "  </thead>\n",
       "  <tbody>\n",
       "    <tr>\n",
       "      <th>1</th>\n",
       "      <td>Rain</td>\n",
       "      <td>4615</td>\n",
       "    </tr>\n",
       "    <tr>\n",
       "      <th>2</th>\n",
       "      <td>Fog</td>\n",
       "      <td>1051</td>\n",
       "    </tr>\n",
       "    <tr>\n",
       "      <th>3</th>\n",
       "      <td>Snow</td>\n",
       "      <td>329</td>\n",
       "    </tr>\n",
       "    <tr>\n",
       "      <th>4</th>\n",
       "      <td>Fog, Rain</td>\n",
       "      <td>181</td>\n",
       "    </tr>\n",
       "    <tr>\n",
       "      <th>5</th>\n",
       "      <td>Rain, Snow</td>\n",
       "      <td>18</td>\n",
       "    </tr>\n",
       "    <tr>\n",
       "      <th>6</th>\n",
       "      <td>Fog, Snow</td>\n",
       "      <td>13</td>\n",
       "    </tr>\n",
       "    <tr>\n",
       "      <th>7</th>\n",
       "      <td>None, Rain</td>\n",
       "      <td>3</td>\n",
       "    </tr>\n",
       "    <tr>\n",
       "      <th>8</th>\n",
       "      <td>Fog, Rain, Snow</td>\n",
       "      <td>2</td>\n",
       "    </tr>\n",
       "  </tbody>\n",
       "</table>\n",
       "</div>"
      ],
      "text/plain": [
       "     precipitation  num_strikes\n",
       "1             Rain         4615\n",
       "2              Fog         1051\n",
       "3             Snow          329\n",
       "4        Fog, Rain          181\n",
       "5       Rain, Snow           18\n",
       "6        Fog, Snow           13\n",
       "7       None, Rain            3\n",
       "8  Fog, Rain, Snow            2"
      ]
     },
     "execution_count": 393,
     "metadata": {},
     "output_type": "execute_result"
    }
   ],
   "source": [
    "precipitation_strikes_excl_ukn"
   ]
  },
  {
   "cell_type": "code",
   "execution_count": 395,
   "id": "47a4d1da",
   "metadata": {},
   "outputs": [
    {
     "data": {
      "text/html": [
       "\n",
       "<style>\n",
       "  #altair-viz-f042cc3e62bb4739994dc333b392866c.vega-embed {\n",
       "    width: 100%;\n",
       "    display: flex;\n",
       "  }\n",
       "\n",
       "  #altair-viz-f042cc3e62bb4739994dc333b392866c.vega-embed details,\n",
       "  #altair-viz-f042cc3e62bb4739994dc333b392866c.vega-embed details summary {\n",
       "    position: relative;\n",
       "  }\n",
       "</style>\n",
       "<div id=\"altair-viz-f042cc3e62bb4739994dc333b392866c\"></div>\n",
       "<script type=\"text/javascript\">\n",
       "  var VEGA_DEBUG = (typeof VEGA_DEBUG == \"undefined\") ? {} : VEGA_DEBUG;\n",
       "  (function(spec, embedOpt){\n",
       "    let outputDiv = document.currentScript.previousElementSibling;\n",
       "    if (outputDiv.id !== \"altair-viz-f042cc3e62bb4739994dc333b392866c\") {\n",
       "      outputDiv = document.getElementById(\"altair-viz-f042cc3e62bb4739994dc333b392866c\");\n",
       "    }\n",
       "\n",
       "    const paths = {\n",
       "      \"vega\": \"https://cdn.jsdelivr.net/npm/vega@5?noext\",\n",
       "      \"vega-lib\": \"https://cdn.jsdelivr.net/npm/vega-lib?noext\",\n",
       "      \"vega-lite\": \"https://cdn.jsdelivr.net/npm/vega-lite@5.20.1?noext\",\n",
       "      \"vega-embed\": \"https://cdn.jsdelivr.net/npm/vega-embed@6?noext\",\n",
       "    };\n",
       "\n",
       "    function maybeLoadScript(lib, version) {\n",
       "      var key = `${lib.replace(\"-\", \"\")}_version`;\n",
       "      return (VEGA_DEBUG[key] == version) ?\n",
       "        Promise.resolve(paths[lib]) :\n",
       "        new Promise(function(resolve, reject) {\n",
       "          var s = document.createElement('script');\n",
       "          document.getElementsByTagName(\"head\")[0].appendChild(s);\n",
       "          s.async = true;\n",
       "          s.onload = () => {\n",
       "            VEGA_DEBUG[key] = version;\n",
       "            return resolve(paths[lib]);\n",
       "          };\n",
       "          s.onerror = () => reject(`Error loading script: ${paths[lib]}`);\n",
       "          s.src = paths[lib];\n",
       "        });\n",
       "    }\n",
       "\n",
       "    function showError(err) {\n",
       "      outputDiv.innerHTML = `<div class=\"error\" style=\"color:red;\">${err}</div>`;\n",
       "      throw err;\n",
       "    }\n",
       "\n",
       "    function displayChart(vegaEmbed) {\n",
       "      vegaEmbed(outputDiv, spec, embedOpt)\n",
       "        .catch(err => showError(`Javascript Error: ${err.message}<br>This usually means there's a typo in your chart specification. See the javascript console for the full traceback.`));\n",
       "    }\n",
       "\n",
       "    if(typeof define === \"function\" && define.amd) {\n",
       "      requirejs.config({paths});\n",
       "      let deps = [\"vega-embed\"];\n",
       "      require(deps, displayChart, err => showError(`Error loading script: ${err.message}`));\n",
       "    } else {\n",
       "      maybeLoadScript(\"vega\", \"5\")\n",
       "        .then(() => maybeLoadScript(\"vega-lite\", \"5.20.1\"))\n",
       "        .then(() => maybeLoadScript(\"vega-embed\", \"6\"))\n",
       "        .catch(showError)\n",
       "        .then(() => displayChart(vegaEmbed));\n",
       "    }\n",
       "  })({\"config\": {\"view\": {\"continuousWidth\": 300, \"continuousHeight\": 300}}, \"data\": {\"name\": \"data-48e9af96f29eef8d5c9d7f19d5ece532\"}, \"mark\": {\"type\": \"bar\"}, \"encoding\": {\"color\": {\"field\": \"precipitation\", \"legend\": null, \"scale\": {\"scheme\": \"bluegreen\", \"reverse\": true}, \"type\": \"nominal\"}, \"tooltip\": [{\"field\": \"precipitation\", \"type\": \"nominal\"}, {\"field\": \"num_strikes\", \"type\": \"quantitative\"}], \"x\": {\"field\": \"num_strikes\", \"title\": \"Number of Strikes\", \"type\": \"quantitative\"}, \"y\": {\"field\": \"precipitation\", \"sort\": \"-x\", \"title\": \"Precipitation\", \"type\": \"ordinal\"}}, \"$schema\": \"https://vega.github.io/schema/vega-lite/v5.20.1.json\", \"datasets\": {\"data-48e9af96f29eef8d5c9d7f19d5ece532\": [{\"precipitation\": \"Rain\", \"num_strikes\": 4615}, {\"precipitation\": \"Fog\", \"num_strikes\": 1051}, {\"precipitation\": \"Snow\", \"num_strikes\": 329}, {\"precipitation\": \"Fog, Rain\", \"num_strikes\": 181}, {\"precipitation\": \"Rain, Snow\", \"num_strikes\": 18}, {\"precipitation\": \"Fog, Snow\", \"num_strikes\": 13}, {\"precipitation\": \"None, Rain\", \"num_strikes\": 3}, {\"precipitation\": \"Fog, Rain, Snow\", \"num_strikes\": 2}]}}, {\"mode\": \"vega-lite\"});\n",
       "</script>"
      ],
      "text/plain": [
       "alt.Chart(...)"
      ]
     },
     "execution_count": 395,
     "metadata": {},
     "output_type": "execute_result"
    }
   ],
   "source": [
    "precipitation__chart = alt.Chart(precipitation_strikes_excl_ukn).mark_bar().encode(\n",
    "    x=alt.X('num_strikes:Q', title='Number of Strikes'),\n",
    "    y=alt.Y('precipitation:O', title='Precipitation').sort('-x'),\n",
    "    tooltip=['precipitation', 'num_strikes'],\n",
    "    color=alt.Color('precipitation').legend(\n",
    "        None).scale(scheme='bluegreen', reverse=True)\n",
    ")\n",
    "precipitation__chart"
   ]
  },
  {
   "cell_type": "code",
   "execution_count": 396,
   "id": "02b7d4b7",
   "metadata": {},
   "outputs": [
    {
     "data": {
      "text/html": [
       "<div>\n",
       "<style scoped>\n",
       "    .dataframe tbody tr th:only-of-type {\n",
       "        vertical-align: middle;\n",
       "    }\n",
       "\n",
       "    .dataframe tbody tr th {\n",
       "        vertical-align: top;\n",
       "    }\n",
       "\n",
       "    .dataframe thead th {\n",
       "        text-align: right;\n",
       "    }\n",
       "</style>\n",
       "<table border=\"1\" class=\"dataframe\">\n",
       "  <thead>\n",
       "    <tr style=\"text-align: right;\">\n",
       "      <th></th>\n",
       "      <th>time_of_day</th>\n",
       "      <th>num_strikes</th>\n",
       "    </tr>\n",
       "  </thead>\n",
       "  <tbody>\n",
       "    <tr>\n",
       "      <th>1</th>\n",
       "      <td>Day</td>\n",
       "      <td>65228</td>\n",
       "    </tr>\n",
       "    <tr>\n",
       "      <th>2</th>\n",
       "      <td>Night</td>\n",
       "      <td>33821</td>\n",
       "    </tr>\n",
       "    <tr>\n",
       "      <th>3</th>\n",
       "      <td>Dusk</td>\n",
       "      <td>4384</td>\n",
       "    </tr>\n",
       "    <tr>\n",
       "      <th>4</th>\n",
       "      <td>Dawn</td>\n",
       "      <td>3462</td>\n",
       "    </tr>\n",
       "  </tbody>\n",
       "</table>\n",
       "</div>"
      ],
      "text/plain": [
       "  time_of_day  num_strikes\n",
       "1         Day        65228\n",
       "2       Night        33821\n",
       "3        Dusk         4384\n",
       "4        Dawn         3462"
      ]
     },
     "execution_count": 396,
     "metadata": {},
     "output_type": "execute_result"
    }
   ],
   "source": [
    "time_strikes_excl_ukn"
   ]
  },
  {
   "cell_type": "code",
   "execution_count": 397,
   "id": "31c0cdaa",
   "metadata": {},
   "outputs": [
    {
     "data": {
      "text/html": [
       "\n",
       "<style>\n",
       "  #altair-viz-8bb4c0da9b02463482e2de1fe4dfa3ae.vega-embed {\n",
       "    width: 100%;\n",
       "    display: flex;\n",
       "  }\n",
       "\n",
       "  #altair-viz-8bb4c0da9b02463482e2de1fe4dfa3ae.vega-embed details,\n",
       "  #altair-viz-8bb4c0da9b02463482e2de1fe4dfa3ae.vega-embed details summary {\n",
       "    position: relative;\n",
       "  }\n",
       "</style>\n",
       "<div id=\"altair-viz-8bb4c0da9b02463482e2de1fe4dfa3ae\"></div>\n",
       "<script type=\"text/javascript\">\n",
       "  var VEGA_DEBUG = (typeof VEGA_DEBUG == \"undefined\") ? {} : VEGA_DEBUG;\n",
       "  (function(spec, embedOpt){\n",
       "    let outputDiv = document.currentScript.previousElementSibling;\n",
       "    if (outputDiv.id !== \"altair-viz-8bb4c0da9b02463482e2de1fe4dfa3ae\") {\n",
       "      outputDiv = document.getElementById(\"altair-viz-8bb4c0da9b02463482e2de1fe4dfa3ae\");\n",
       "    }\n",
       "\n",
       "    const paths = {\n",
       "      \"vega\": \"https://cdn.jsdelivr.net/npm/vega@5?noext\",\n",
       "      \"vega-lib\": \"https://cdn.jsdelivr.net/npm/vega-lib?noext\",\n",
       "      \"vega-lite\": \"https://cdn.jsdelivr.net/npm/vega-lite@5.20.1?noext\",\n",
       "      \"vega-embed\": \"https://cdn.jsdelivr.net/npm/vega-embed@6?noext\",\n",
       "    };\n",
       "\n",
       "    function maybeLoadScript(lib, version) {\n",
       "      var key = `${lib.replace(\"-\", \"\")}_version`;\n",
       "      return (VEGA_DEBUG[key] == version) ?\n",
       "        Promise.resolve(paths[lib]) :\n",
       "        new Promise(function(resolve, reject) {\n",
       "          var s = document.createElement('script');\n",
       "          document.getElementsByTagName(\"head\")[0].appendChild(s);\n",
       "          s.async = true;\n",
       "          s.onload = () => {\n",
       "            VEGA_DEBUG[key] = version;\n",
       "            return resolve(paths[lib]);\n",
       "          };\n",
       "          s.onerror = () => reject(`Error loading script: ${paths[lib]}`);\n",
       "          s.src = paths[lib];\n",
       "        });\n",
       "    }\n",
       "\n",
       "    function showError(err) {\n",
       "      outputDiv.innerHTML = `<div class=\"error\" style=\"color:red;\">${err}</div>`;\n",
       "      throw err;\n",
       "    }\n",
       "\n",
       "    function displayChart(vegaEmbed) {\n",
       "      vegaEmbed(outputDiv, spec, embedOpt)\n",
       "        .catch(err => showError(`Javascript Error: ${err.message}<br>This usually means there's a typo in your chart specification. See the javascript console for the full traceback.`));\n",
       "    }\n",
       "\n",
       "    if(typeof define === \"function\" && define.amd) {\n",
       "      requirejs.config({paths});\n",
       "      let deps = [\"vega-embed\"];\n",
       "      require(deps, displayChart, err => showError(`Error loading script: ${err.message}`));\n",
       "    } else {\n",
       "      maybeLoadScript(\"vega\", \"5\")\n",
       "        .then(() => maybeLoadScript(\"vega-lite\", \"5.20.1\"))\n",
       "        .then(() => maybeLoadScript(\"vega-embed\", \"6\"))\n",
       "        .catch(showError)\n",
       "        .then(() => displayChart(vegaEmbed));\n",
       "    }\n",
       "  })({\"config\": {\"view\": {\"continuousWidth\": 300, \"continuousHeight\": 300}}, \"data\": {\"name\": \"data-ee348c187cf8486cf5296d67fbaab57b\"}, \"mark\": {\"type\": \"bar\"}, \"encoding\": {\"color\": {\"field\": \"time_of_day\", \"legend\": null, \"scale\": {\"scheme\": \"bluegreen\", \"reverse\": true}, \"type\": \"nominal\"}, \"tooltip\": [{\"field\": \"time_of_day\", \"type\": \"nominal\"}, {\"field\": \"num_strikes\", \"type\": \"quantitative\"}], \"x\": {\"field\": \"num_strikes\", \"title\": \"Number of Strikes\", \"type\": \"quantitative\"}, \"y\": {\"field\": \"time_of_day\", \"sort\": \"-x\", \"title\": \"Time of Day\", \"type\": \"ordinal\"}}, \"$schema\": \"https://vega.github.io/schema/vega-lite/v5.20.1.json\", \"datasets\": {\"data-ee348c187cf8486cf5296d67fbaab57b\": [{\"time_of_day\": \"Day\", \"num_strikes\": 65228}, {\"time_of_day\": \"Night\", \"num_strikes\": 33821}, {\"time_of_day\": \"Dusk\", \"num_strikes\": 4384}, {\"time_of_day\": \"Dawn\", \"num_strikes\": 3462}]}}, {\"mode\": \"vega-lite\"});\n",
       "</script>"
      ],
      "text/plain": [
       "alt.Chart(...)"
      ]
     },
     "execution_count": 397,
     "metadata": {},
     "output_type": "execute_result"
    }
   ],
   "source": [
    "time_of_day_chart = alt.Chart(time_strikes_excl_ukn).mark_bar().encode(\n",
    "    x=alt.X('num_strikes:Q', title='Number of Strikes'),\n",
    "    y=alt.Y('time_of_day:O', title='Time of Day').sort('-x'),\n",
    "    tooltip=['time_of_day', 'num_strikes'],\n",
    "    color=alt.Color('time_of_day').legend(\n",
    "        None).scale(scheme='bluegreen', reverse=True)\n",
    ")\n",
    "time_of_day_chart"
   ]
  },
  {
   "cell_type": "markdown",
   "id": "f4f9e9f2",
   "metadata": {},
   "source": [
    "**Which airlines/airports/states would be likely potential customers for any of this technology?**\n"
   ]
  },
  {
   "cell_type": "code",
   "execution_count": 422,
   "id": "837ec01d",
   "metadata": {},
   "outputs": [],
   "source": [
    "target_query = \"\"\"SELECT w.airport_name, a.airline_name, w.indicated_damage, w.cost_repairs, w.nr_injuries\n",
    "FROM wildlife_strike AS w\n",
    "JOIN airline AS a ON (w.opid = a.iaco)\"\"\"\n",
    "curs.execute(target_query)\n",
    "target_areas = curs.fetch_dataframe()"
   ]
  },
  {
   "cell_type": "code",
   "execution_count": 423,
   "id": "1c0179e8",
   "metadata": {},
   "outputs": [],
   "source": [
    "target_areas = convert_str_to_ints(\n",
    "   target_areas, 'indicated_damage')\n",
    "target_areas = convert_str_to_ints(target_areas, 'nr_injuries')\n",
    "\n",
    "target_areas = convert_str_to_ints(\n",
    "  target_areas, 'cost_repairs')"
   ]
  },
  {
   "cell_type": "code",
   "execution_count": 424,
   "id": "6e70fd25",
   "metadata": {},
   "outputs": [
    {
     "data": {
      "text/html": [
       "<div>\n",
       "<style scoped>\n",
       "    .dataframe tbody tr th:only-of-type {\n",
       "        vertical-align: middle;\n",
       "    }\n",
       "\n",
       "    .dataframe tbody tr th {\n",
       "        vertical-align: top;\n",
       "    }\n",
       "\n",
       "    .dataframe thead th {\n",
       "        text-align: right;\n",
       "    }\n",
       "</style>\n",
       "<table border=\"1\" class=\"dataframe\">\n",
       "  <thead>\n",
       "    <tr style=\"text-align: right;\">\n",
       "      <th></th>\n",
       "      <th>airport_name</th>\n",
       "      <th>airline_name</th>\n",
       "      <th>indicated_damage</th>\n",
       "      <th>cost_repairs</th>\n",
       "      <th>nr_injuries</th>\n",
       "    </tr>\n",
       "  </thead>\n",
       "  <tbody>\n",
       "    <tr>\n",
       "      <th>0</th>\n",
       "      <td>DALLAS/FORT WORTH INTL ARPT</td>\n",
       "      <td>American Airlines</td>\n",
       "      <td>0</td>\n",
       "      <td>0</td>\n",
       "      <td>0</td>\n",
       "    </tr>\n",
       "    <tr>\n",
       "      <th>1</th>\n",
       "      <td>PORTLAND INTL (OR)</td>\n",
       "      <td>American Airlines</td>\n",
       "      <td>0</td>\n",
       "      <td>0</td>\n",
       "      <td>0</td>\n",
       "    </tr>\n",
       "    <tr>\n",
       "      <th>2</th>\n",
       "      <td>LONG BEACH-DAUGH FLD</td>\n",
       "      <td>American Airlines</td>\n",
       "      <td>0</td>\n",
       "      <td>0</td>\n",
       "      <td>0</td>\n",
       "    </tr>\n",
       "    <tr>\n",
       "      <th>3</th>\n",
       "      <td>SAN FRANCISCO INTL ARPT</td>\n",
       "      <td>United Airlines</td>\n",
       "      <td>0</td>\n",
       "      <td>0</td>\n",
       "      <td>0</td>\n",
       "    </tr>\n",
       "    <tr>\n",
       "      <th>4</th>\n",
       "      <td>DALLAS/FORT WORTH INTL ARPT</td>\n",
       "      <td>American Airlines</td>\n",
       "      <td>0</td>\n",
       "      <td>0</td>\n",
       "      <td>0</td>\n",
       "    </tr>\n",
       "  </tbody>\n",
       "</table>\n",
       "</div>"
      ],
      "text/plain": [
       "                  airport_name       airline_name  indicated_damage  \\\n",
       "0  DALLAS/FORT WORTH INTL ARPT  American Airlines                 0   \n",
       "1           PORTLAND INTL (OR)  American Airlines                 0   \n",
       "2         LONG BEACH-DAUGH FLD  American Airlines                 0   \n",
       "3      SAN FRANCISCO INTL ARPT    United Airlines                 0   \n",
       "4  DALLAS/FORT WORTH INTL ARPT  American Airlines                 0   \n",
       "\n",
       "   cost_repairs  nr_injuries  \n",
       "0             0            0  \n",
       "1             0            0  \n",
       "2             0            0  \n",
       "3             0            0  \n",
       "4             0            0  "
      ]
     },
     "execution_count": 424,
     "metadata": {},
     "output_type": "execute_result"
    }
   ],
   "source": [
    "target_areas.head()"
   ]
  },
  {
   "cell_type": "code",
   "execution_count": 433,
   "id": "fd17458b",
   "metadata": {},
   "outputs": [
    {
     "data": {
      "text/html": [
       "<div>\n",
       "<style scoped>\n",
       "    .dataframe tbody tr th:only-of-type {\n",
       "        vertical-align: middle;\n",
       "    }\n",
       "\n",
       "    .dataframe tbody tr th {\n",
       "        vertical-align: top;\n",
       "    }\n",
       "\n",
       "    .dataframe thead th {\n",
       "        text-align: right;\n",
       "    }\n",
       "</style>\n",
       "<table border=\"1\" class=\"dataframe\">\n",
       "  <thead>\n",
       "    <tr style=\"text-align: right;\">\n",
       "      <th></th>\n",
       "      <th>airline_name</th>\n",
       "      <th>cost_repairs</th>\n",
       "    </tr>\n",
       "  </thead>\n",
       "  <tbody>\n",
       "    <tr>\n",
       "      <th>0</th>\n",
       "      <td>United Airlines</td>\n",
       "      <td>80343451</td>\n",
       "    </tr>\n",
       "    <tr>\n",
       "      <th>1</th>\n",
       "      <td>Delta Air Lines</td>\n",
       "      <td>46963162</td>\n",
       "    </tr>\n",
       "    <tr>\n",
       "      <th>2</th>\n",
       "      <td>JetBlue</td>\n",
       "      <td>36026984</td>\n",
       "    </tr>\n",
       "    <tr>\n",
       "      <th>3</th>\n",
       "      <td>American Airlines</td>\n",
       "      <td>33165588</td>\n",
       "    </tr>\n",
       "    <tr>\n",
       "      <th>4</th>\n",
       "      <td>Southwest Airlines</td>\n",
       "      <td>30090092</td>\n",
       "    </tr>\n",
       "  </tbody>\n",
       "</table>\n",
       "</div>"
      ],
      "text/plain": [
       "         airline_name  cost_repairs\n",
       "0     United Airlines      80343451\n",
       "1     Delta Air Lines      46963162\n",
       "2             JetBlue      36026984\n",
       "3   American Airlines      33165588\n",
       "4  Southwest Airlines      30090092"
      ]
     },
     "execution_count": 433,
     "metadata": {},
     "output_type": "execute_result"
    }
   ],
   "source": [
    "airlines_cost = target_areas.groupby(\n",
    "    'airline_name')['cost_repairs'].sum().sort_values(ascending=False).reset_index().head(5)\n",
    "airlines_cost"
   ]
  },
  {
   "cell_type": "code",
   "execution_count": 434,
   "id": "a6c1f3c6",
   "metadata": {},
   "outputs": [
    {
     "data": {
      "text/html": [
       "<div>\n",
       "<style scoped>\n",
       "    .dataframe tbody tr th:only-of-type {\n",
       "        vertical-align: middle;\n",
       "    }\n",
       "\n",
       "    .dataframe tbody tr th {\n",
       "        vertical-align: top;\n",
       "    }\n",
       "\n",
       "    .dataframe thead th {\n",
       "        text-align: right;\n",
       "    }\n",
       "</style>\n",
       "<table border=\"1\" class=\"dataframe\">\n",
       "  <thead>\n",
       "    <tr style=\"text-align: right;\">\n",
       "      <th></th>\n",
       "      <th>airport_name</th>\n",
       "      <th>cost_repairs</th>\n",
       "    </tr>\n",
       "  </thead>\n",
       "  <tbody>\n",
       "    <tr>\n",
       "      <th>0</th>\n",
       "      <td>CHICAGO O'HARE INTL ARPT</td>\n",
       "      <td>31662795</td>\n",
       "    </tr>\n",
       "    <tr>\n",
       "      <th>1</th>\n",
       "      <td>DENVER INTL AIRPORT</td>\n",
       "      <td>27275552</td>\n",
       "    </tr>\n",
       "    <tr>\n",
       "      <th>2</th>\n",
       "      <td>UNKNOWN</td>\n",
       "      <td>19883870</td>\n",
       "    </tr>\n",
       "    <tr>\n",
       "      <th>3</th>\n",
       "      <td>GENERAL EDWARD LAWRENCE LOGAN INTL ARPT</td>\n",
       "      <td>15624206</td>\n",
       "    </tr>\n",
       "    <tr>\n",
       "      <th>4</th>\n",
       "      <td>SALT LAKE CITY INTL</td>\n",
       "      <td>14769719</td>\n",
       "    </tr>\n",
       "  </tbody>\n",
       "</table>\n",
       "</div>"
      ],
      "text/plain": [
       "                              airport_name  cost_repairs\n",
       "0                 CHICAGO O'HARE INTL ARPT      31662795\n",
       "1                      DENVER INTL AIRPORT      27275552\n",
       "2                                  UNKNOWN      19883870\n",
       "3  GENERAL EDWARD LAWRENCE LOGAN INTL ARPT      15624206\n",
       "4                      SALT LAKE CITY INTL      14769719"
      ]
     },
     "execution_count": 434,
     "metadata": {},
     "output_type": "execute_result"
    }
   ],
   "source": [
    "airport_cost = target_areas.groupby(\n",
    "    'airport_name')['cost_repairs'].sum().sort_values(ascending=False).reset_index().head(5)\n",
    "airport_cost"
   ]
  },
  {
   "cell_type": "code",
   "execution_count": 432,
   "id": "43e8be8b",
   "metadata": {},
   "outputs": [
    {
     "data": {
      "text/html": [
       "\n",
       "<style>\n",
       "  #altair-viz-a6fef2be6eef45b1b99be84abd75fda6.vega-embed {\n",
       "    width: 100%;\n",
       "    display: flex;\n",
       "  }\n",
       "\n",
       "  #altair-viz-a6fef2be6eef45b1b99be84abd75fda6.vega-embed details,\n",
       "  #altair-viz-a6fef2be6eef45b1b99be84abd75fda6.vega-embed details summary {\n",
       "    position: relative;\n",
       "  }\n",
       "</style>\n",
       "<div id=\"altair-viz-a6fef2be6eef45b1b99be84abd75fda6\"></div>\n",
       "<script type=\"text/javascript\">\n",
       "  var VEGA_DEBUG = (typeof VEGA_DEBUG == \"undefined\") ? {} : VEGA_DEBUG;\n",
       "  (function(spec, embedOpt){\n",
       "    let outputDiv = document.currentScript.previousElementSibling;\n",
       "    if (outputDiv.id !== \"altair-viz-a6fef2be6eef45b1b99be84abd75fda6\") {\n",
       "      outputDiv = document.getElementById(\"altair-viz-a6fef2be6eef45b1b99be84abd75fda6\");\n",
       "    }\n",
       "\n",
       "    const paths = {\n",
       "      \"vega\": \"https://cdn.jsdelivr.net/npm/vega@5?noext\",\n",
       "      \"vega-lib\": \"https://cdn.jsdelivr.net/npm/vega-lib?noext\",\n",
       "      \"vega-lite\": \"https://cdn.jsdelivr.net/npm/vega-lite@5.20.1?noext\",\n",
       "      \"vega-embed\": \"https://cdn.jsdelivr.net/npm/vega-embed@6?noext\",\n",
       "    };\n",
       "\n",
       "    function maybeLoadScript(lib, version) {\n",
       "      var key = `${lib.replace(\"-\", \"\")}_version`;\n",
       "      return (VEGA_DEBUG[key] == version) ?\n",
       "        Promise.resolve(paths[lib]) :\n",
       "        new Promise(function(resolve, reject) {\n",
       "          var s = document.createElement('script');\n",
       "          document.getElementsByTagName(\"head\")[0].appendChild(s);\n",
       "          s.async = true;\n",
       "          s.onload = () => {\n",
       "            VEGA_DEBUG[key] = version;\n",
       "            return resolve(paths[lib]);\n",
       "          };\n",
       "          s.onerror = () => reject(`Error loading script: ${paths[lib]}`);\n",
       "          s.src = paths[lib];\n",
       "        });\n",
       "    }\n",
       "\n",
       "    function showError(err) {\n",
       "      outputDiv.innerHTML = `<div class=\"error\" style=\"color:red;\">${err}</div>`;\n",
       "      throw err;\n",
       "    }\n",
       "\n",
       "    function displayChart(vegaEmbed) {\n",
       "      vegaEmbed(outputDiv, spec, embedOpt)\n",
       "        .catch(err => showError(`Javascript Error: ${err.message}<br>This usually means there's a typo in your chart specification. See the javascript console for the full traceback.`));\n",
       "    }\n",
       "\n",
       "    if(typeof define === \"function\" && define.amd) {\n",
       "      requirejs.config({paths});\n",
       "      let deps = [\"vega-embed\"];\n",
       "      require(deps, displayChart, err => showError(`Error loading script: ${err.message}`));\n",
       "    } else {\n",
       "      maybeLoadScript(\"vega\", \"5\")\n",
       "        .then(() => maybeLoadScript(\"vega-lite\", \"5.20.1\"))\n",
       "        .then(() => maybeLoadScript(\"vega-embed\", \"6\"))\n",
       "        .catch(showError)\n",
       "        .then(() => displayChart(vegaEmbed));\n",
       "    }\n",
       "  })({\"config\": {\"view\": {\"continuousWidth\": 300, \"continuousHeight\": 300}}, \"data\": {\"name\": \"data-cf55603c378e00adad0bc3b7e371a6dd\"}, \"mark\": {\"type\": \"bar\"}, \"encoding\": {\"color\": {\"field\": \"airport_name\", \"legend\": null, \"scale\": {\"scheme\": \"bluegreen\", \"reverse\": true}, \"type\": \"nominal\"}, \"tooltip\": [{\"field\": \"airport_name\", \"type\": \"nominal\"}, {\"field\": \"cost_repairs\", \"type\": \"quantitative\"}], \"x\": {\"field\": \"cost_repairs\", \"title\": \"Cost of Repairs\", \"type\": \"quantitative\"}, \"y\": {\"field\": \"airport_name\", \"sort\": \"-x\", \"title\": \"Airport Name\", \"type\": \"ordinal\"}}, \"$schema\": \"https://vega.github.io/schema/vega-lite/v5.20.1.json\", \"datasets\": {\"data-cf55603c378e00adad0bc3b7e371a6dd\": [{\"airport_name\": \"CHICAGO O'HARE INTL ARPT\", \"cost_repairs\": 31662795}, {\"airport_name\": \"DENVER INTL AIRPORT\", \"cost_repairs\": 27275552}, {\"airport_name\": \"UNKNOWN\", \"cost_repairs\": 19883870}, {\"airport_name\": \"GENERAL EDWARD LAWRENCE LOGAN INTL ARPT\", \"cost_repairs\": 15624206}, {\"airport_name\": \"SALT LAKE CITY INTL\", \"cost_repairs\": 14769719}]}}, {\"mode\": \"vega-lite\"});\n",
       "</script>"
      ],
      "text/plain": [
       "alt.Chart(...)"
      ]
     },
     "execution_count": 432,
     "metadata": {},
     "output_type": "execute_result"
    }
   ],
   "source": [
    "\n",
    "\n",
    "airport_chart = alt.Chart(airport_cost).mark_bar().encode(\n",
    "    x=alt.X('cost_repairs:Q', title='Cost of Repairs'),\n",
    "    y=alt.Y('airport_name:O', title='Airport Name').sort('-x'),\n",
    "    tooltip=['airport_name', 'cost_repairs'],\n",
    "    color=alt.Color('airport_name').legend(\n",
    "        None).scale(scheme='bluegreen', reverse=True))\n",
    "\n",
    "\n",
    "airport_chart"
   ]
  },
  {
   "cell_type": "code",
   "execution_count": 438,
   "id": "7392e13b",
   "metadata": {},
   "outputs": [
    {
     "data": {
      "text/html": [
       "\n",
       "<style>\n",
       "  #altair-viz-77030cad86db43e5b0aa0eba1ab4d1f7.vega-embed {\n",
       "    width: 100%;\n",
       "    display: flex;\n",
       "  }\n",
       "\n",
       "  #altair-viz-77030cad86db43e5b0aa0eba1ab4d1f7.vega-embed details,\n",
       "  #altair-viz-77030cad86db43e5b0aa0eba1ab4d1f7.vega-embed details summary {\n",
       "    position: relative;\n",
       "  }\n",
       "</style>\n",
       "<div id=\"altair-viz-77030cad86db43e5b0aa0eba1ab4d1f7\"></div>\n",
       "<script type=\"text/javascript\">\n",
       "  var VEGA_DEBUG = (typeof VEGA_DEBUG == \"undefined\") ? {} : VEGA_DEBUG;\n",
       "  (function(spec, embedOpt){\n",
       "    let outputDiv = document.currentScript.previousElementSibling;\n",
       "    if (outputDiv.id !== \"altair-viz-77030cad86db43e5b0aa0eba1ab4d1f7\") {\n",
       "      outputDiv = document.getElementById(\"altair-viz-77030cad86db43e5b0aa0eba1ab4d1f7\");\n",
       "    }\n",
       "\n",
       "    const paths = {\n",
       "      \"vega\": \"https://cdn.jsdelivr.net/npm/vega@5?noext\",\n",
       "      \"vega-lib\": \"https://cdn.jsdelivr.net/npm/vega-lib?noext\",\n",
       "      \"vega-lite\": \"https://cdn.jsdelivr.net/npm/vega-lite@5.20.1?noext\",\n",
       "      \"vega-embed\": \"https://cdn.jsdelivr.net/npm/vega-embed@6?noext\",\n",
       "    };\n",
       "\n",
       "    function maybeLoadScript(lib, version) {\n",
       "      var key = `${lib.replace(\"-\", \"\")}_version`;\n",
       "      return (VEGA_DEBUG[key] == version) ?\n",
       "        Promise.resolve(paths[lib]) :\n",
       "        new Promise(function(resolve, reject) {\n",
       "          var s = document.createElement('script');\n",
       "          document.getElementsByTagName(\"head\")[0].appendChild(s);\n",
       "          s.async = true;\n",
       "          s.onload = () => {\n",
       "            VEGA_DEBUG[key] = version;\n",
       "            return resolve(paths[lib]);\n",
       "          };\n",
       "          s.onerror = () => reject(`Error loading script: ${paths[lib]}`);\n",
       "          s.src = paths[lib];\n",
       "        });\n",
       "    }\n",
       "\n",
       "    function showError(err) {\n",
       "      outputDiv.innerHTML = `<div class=\"error\" style=\"color:red;\">${err}</div>`;\n",
       "      throw err;\n",
       "    }\n",
       "\n",
       "    function displayChart(vegaEmbed) {\n",
       "      vegaEmbed(outputDiv, spec, embedOpt)\n",
       "        .catch(err => showError(`Javascript Error: ${err.message}<br>This usually means there's a typo in your chart specification. See the javascript console for the full traceback.`));\n",
       "    }\n",
       "\n",
       "    if(typeof define === \"function\" && define.amd) {\n",
       "      requirejs.config({paths});\n",
       "      let deps = [\"vega-embed\"];\n",
       "      require(deps, displayChart, err => showError(`Error loading script: ${err.message}`));\n",
       "    } else {\n",
       "      maybeLoadScript(\"vega\", \"5\")\n",
       "        .then(() => maybeLoadScript(\"vega-lite\", \"5.20.1\"))\n",
       "        .then(() => maybeLoadScript(\"vega-embed\", \"6\"))\n",
       "        .catch(showError)\n",
       "        .then(() => displayChart(vegaEmbed));\n",
       "    }\n",
       "  })({\"config\": {\"view\": {\"continuousWidth\": 300, \"continuousHeight\": 300}}, \"data\": {\"name\": \"data-46bb51a488588024aecbf6a5c7a5a370\"}, \"mark\": {\"type\": \"bar\"}, \"encoding\": {\"color\": {\"field\": \"airline_name\", \"legend\": null, \"scale\": {\"scheme\": \"bluegreen\", \"reverse\": true}, \"type\": \"nominal\"}, \"tooltip\": [{\"field\": \"airline_name\", \"type\": \"nominal\"}, {\"field\": \"cost_repairs\", \"type\": \"quantitative\"}], \"x\": {\"field\": \"cost_repairs\", \"title\": \"Cost of Repairs\", \"type\": \"quantitative\"}, \"y\": {\"field\": \"airline_name\", \"sort\": \"-x\", \"title\": \"Airline Name\", \"type\": \"ordinal\"}}, \"$schema\": \"https://vega.github.io/schema/vega-lite/v5.20.1.json\", \"datasets\": {\"data-46bb51a488588024aecbf6a5c7a5a370\": [{\"airline_name\": \"United Airlines\", \"cost_repairs\": 80343451}, {\"airline_name\": \"Delta Air Lines\", \"cost_repairs\": 46963162}, {\"airline_name\": \"JetBlue\", \"cost_repairs\": 36026984}, {\"airline_name\": \"American Airlines\", \"cost_repairs\": 33165588}, {\"airline_name\": \"Southwest Airlines\", \"cost_repairs\": 30090092}]}}, {\"mode\": \"vega-lite\"});\n",
       "</script>"
      ],
      "text/plain": [
       "alt.Chart(...)"
      ]
     },
     "execution_count": 438,
     "metadata": {},
     "output_type": "execute_result"
    }
   ],
   "source": [
    "airline_chart = alt.Chart(airlines_cost).mark_bar().encode(\n",
    "    x=alt.X('cost_repairs:Q', title='Cost of Repairs'),\n",
    "    y=alt.Y('airline_name:O', title='Airline Name').sort('-x'),\n",
    "    tooltip=['airline_name', 'cost_repairs'],\n",
    "    color=alt.Color('airline_name').legend(\n",
    "        None).scale(scheme='bluegreen', reverse=True))\n",
    "\n",
    "\n",
    "airline_chart"
   ]
  },
  {
   "cell_type": "code",
   "execution_count": 416,
   "id": "582d6fa5",
   "metadata": {},
   "outputs": [
    {
     "data": {
      "text/plain": [
       "array(['American Airlines', 'United Airlines', 'Delta Air Lines',\n",
       "       'Southwest Airlines', 'Eastern Airlines', 'Hawaiian Airlines',\n",
       "       'Sun Country Airlines', 'Frontier Airlines', 'Spirit Airlines',\n",
       "       'Allegiant Air', 'JetBlue', 'Breeze Airways', 'Avelo Airlines'],\n",
       "      dtype=object)"
      ]
     },
     "execution_count": 416,
     "metadata": {},
     "output_type": "execute_result"
    }
   ],
   "source": [
    "target_areas['airline_name'].unique()"
   ]
  }
 ],
 "metadata": {
  "kernelspec": {
   "display_name": ".venv",
   "language": "python",
   "name": "python3"
  },
  "language_info": {
   "codemirror_mode": {
    "name": "ipython",
    "version": 3
   },
   "file_extension": ".py",
   "mimetype": "text/x-python",
   "name": "python",
   "nbconvert_exporter": "python",
   "pygments_lexer": "ipython3",
   "version": "3.13.2"
  }
 },
 "nbformat": 4,
 "nbformat_minor": 5
}
